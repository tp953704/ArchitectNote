{
 "cells": [
  {
   "cell_type": "markdown",
   "metadata": {},
   "source": [
    "### Chat History with Memory 🧠\n",
    "\n",
    "<img src=\"./Image/ChatHistory.png\" width=\"700\" height=\"400\" style=\"display: block; margin: auto;\">"
   ]
  },
  {
   "cell_type": "markdown",
   "metadata": {},
   "source": [
    "### Load ENV file"
   ]
  },
  {
   "cell_type": "code",
   "execution_count": 3,
   "metadata": {},
   "outputs": [
    {
     "name": "stdout",
     "output_type": "stream",
     "text": [
      "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\n"
     ]
    }
   ],
   "source": [
    "from dotenv import load_dotenv\n",
    "import os\n",
    "load = load_dotenv('./../.env')\n",
    "\n",
    "print(os.getenv(\"LANGSMITH_API_KEY\"))"
   ]
  },
  {
   "cell_type": "markdown",
   "metadata": {},
   "source": [
    "#### Create LLM object"
   ]
  },
  {
   "cell_type": "code",
   "execution_count": 5,
   "metadata": {},
   "outputs": [],
   "source": [
    "from langchain_ollama import ChatOllama\n",
    "\n",
    "llm = ChatOllama(\n",
    "    base_url=\"http://localhost:11434\",\n",
    "    model = \"qwen2.5:latest\",\n",
    "    temperature=0.5,\n",
    "    max_tokens = 250\n",
    ")"
   ]
  },
  {
   "cell_type": "code",
   "execution_count": 6,
   "metadata": {},
   "outputs": [
    {
     "name": "stdout",
     "output_type": "stream",
     "text": [
      "Collecting langchain_community\n",
      "  Using cached langchain_community-0.3.17-py3-none-any.whl.metadata (2.4 kB)\n",
      "Requirement already satisfied: langchain-core<1.0.0,>=0.3.34 in /Users/karthik/tryout/LangchainTraining/myenv312/lib/python3.12/site-packages (from langchain_community) (0.3.35)\n",
      "Requirement already satisfied: langchain<1.0.0,>=0.3.18 in /Users/karthik/tryout/LangchainTraining/myenv312/lib/python3.12/site-packages (from langchain_community) (0.3.18)\n",
      "Requirement already satisfied: SQLAlchemy<3,>=1.4 in /Users/karthik/tryout/LangchainTraining/myenv312/lib/python3.12/site-packages (from langchain_community) (2.0.38)\n",
      "Requirement already satisfied: requests<3,>=2 in /Users/karthik/tryout/LangchainTraining/myenv312/lib/python3.12/site-packages (from langchain_community) (2.32.3)\n",
      "Requirement already satisfied: PyYAML>=5.3 in /Users/karthik/tryout/LangchainTraining/myenv312/lib/python3.12/site-packages (from langchain_community) (6.0.2)\n",
      "Requirement already satisfied: aiohttp<4.0.0,>=3.8.3 in /Users/karthik/tryout/LangchainTraining/myenv312/lib/python3.12/site-packages (from langchain_community) (3.11.12)\n",
      "Requirement already satisfied: tenacity!=8.4.0,<10,>=8.1.0 in /Users/karthik/tryout/LangchainTraining/myenv312/lib/python3.12/site-packages (from langchain_community) (9.0.0)\n",
      "Collecting dataclasses-json<0.7,>=0.5.7 (from langchain_community)\n",
      "  Using cached dataclasses_json-0.6.7-py3-none-any.whl.metadata (25 kB)\n",
      "Collecting pydantic-settings<3.0.0,>=2.4.0 (from langchain_community)\n",
      "  Using cached pydantic_settings-2.7.1-py3-none-any.whl.metadata (3.5 kB)\n",
      "Requirement already satisfied: langsmith<0.4,>=0.1.125 in /Users/karthik/tryout/LangchainTraining/myenv312/lib/python3.12/site-packages (from langchain_community) (0.3.8)\n",
      "Collecting httpx-sse<1.0.0,>=0.4.0 (from langchain_community)\n",
      "  Using cached httpx_sse-0.4.0-py3-none-any.whl.metadata (9.0 kB)\n",
      "Requirement already satisfied: numpy<3,>=1.26.2 in /Users/karthik/tryout/LangchainTraining/myenv312/lib/python3.12/site-packages (from langchain_community) (2.2.3)\n",
      "Requirement already satisfied: aiohappyeyeballs>=2.3.0 in /Users/karthik/tryout/LangchainTraining/myenv312/lib/python3.12/site-packages (from aiohttp<4.0.0,>=3.8.3->langchain_community) (2.4.6)\n",
      "Requirement already satisfied: aiosignal>=1.1.2 in /Users/karthik/tryout/LangchainTraining/myenv312/lib/python3.12/site-packages (from aiohttp<4.0.0,>=3.8.3->langchain_community) (1.3.2)\n",
      "Requirement already satisfied: attrs>=17.3.0 in /Users/karthik/tryout/LangchainTraining/myenv312/lib/python3.12/site-packages (from aiohttp<4.0.0,>=3.8.3->langchain_community) (25.1.0)\n",
      "Requirement already satisfied: frozenlist>=1.1.1 in /Users/karthik/tryout/LangchainTraining/myenv312/lib/python3.12/site-packages (from aiohttp<4.0.0,>=3.8.3->langchain_community) (1.5.0)\n",
      "Requirement already satisfied: multidict<7.0,>=4.5 in /Users/karthik/tryout/LangchainTraining/myenv312/lib/python3.12/site-packages (from aiohttp<4.0.0,>=3.8.3->langchain_community) (6.1.0)\n",
      "Requirement already satisfied: propcache>=0.2.0 in /Users/karthik/tryout/LangchainTraining/myenv312/lib/python3.12/site-packages (from aiohttp<4.0.0,>=3.8.3->langchain_community) (0.2.1)\n",
      "Requirement already satisfied: yarl<2.0,>=1.17.0 in /Users/karthik/tryout/LangchainTraining/myenv312/lib/python3.12/site-packages (from aiohttp<4.0.0,>=3.8.3->langchain_community) (1.18.3)\n",
      "Collecting marshmallow<4.0.0,>=3.18.0 (from dataclasses-json<0.7,>=0.5.7->langchain_community)\n",
      "  Using cached marshmallow-3.26.1-py3-none-any.whl.metadata (7.3 kB)\n",
      "Collecting typing-inspect<1,>=0.4.0 (from dataclasses-json<0.7,>=0.5.7->langchain_community)\n",
      "  Using cached typing_inspect-0.9.0-py3-none-any.whl.metadata (1.5 kB)\n",
      "Requirement already satisfied: langchain-text-splitters<1.0.0,>=0.3.6 in /Users/karthik/tryout/LangchainTraining/myenv312/lib/python3.12/site-packages (from langchain<1.0.0,>=0.3.18->langchain_community) (0.3.6)\n",
      "Requirement already satisfied: pydantic<3.0.0,>=2.7.4 in /Users/karthik/tryout/LangchainTraining/myenv312/lib/python3.12/site-packages (from langchain<1.0.0,>=0.3.18->langchain_community) (2.10.6)\n",
      "Requirement already satisfied: jsonpatch<2.0,>=1.33 in /Users/karthik/tryout/LangchainTraining/myenv312/lib/python3.12/site-packages (from langchain-core<1.0.0,>=0.3.34->langchain_community) (1.33)\n",
      "Requirement already satisfied: packaging<25,>=23.2 in /Users/karthik/tryout/LangchainTraining/myenv312/lib/python3.12/site-packages (from langchain-core<1.0.0,>=0.3.34->langchain_community) (24.2)\n",
      "Requirement already satisfied: typing-extensions>=4.7 in /Users/karthik/tryout/LangchainTraining/myenv312/lib/python3.12/site-packages (from langchain-core<1.0.0,>=0.3.34->langchain_community) (4.12.2)\n",
      "Requirement already satisfied: httpx<1,>=0.23.0 in /Users/karthik/tryout/LangchainTraining/myenv312/lib/python3.12/site-packages (from langsmith<0.4,>=0.1.125->langchain_community) (0.28.1)\n",
      "Requirement already satisfied: orjson<4.0.0,>=3.9.14 in /Users/karthik/tryout/LangchainTraining/myenv312/lib/python3.12/site-packages (from langsmith<0.4,>=0.1.125->langchain_community) (3.10.15)\n",
      "Requirement already satisfied: requests-toolbelt<2.0.0,>=1.0.0 in /Users/karthik/tryout/LangchainTraining/myenv312/lib/python3.12/site-packages (from langsmith<0.4,>=0.1.125->langchain_community) (1.0.0)\n",
      "Requirement already satisfied: zstandard<0.24.0,>=0.23.0 in /Users/karthik/tryout/LangchainTraining/myenv312/lib/python3.12/site-packages (from langsmith<0.4,>=0.1.125->langchain_community) (0.23.0)\n",
      "Requirement already satisfied: python-dotenv>=0.21.0 in /Users/karthik/tryout/LangchainTraining/myenv312/lib/python3.12/site-packages (from pydantic-settings<3.0.0,>=2.4.0->langchain_community) (1.0.1)\n",
      "Requirement already satisfied: charset-normalizer<4,>=2 in /Users/karthik/tryout/LangchainTraining/myenv312/lib/python3.12/site-packages (from requests<3,>=2->langchain_community) (3.4.1)\n",
      "Requirement already satisfied: idna<4,>=2.5 in /Users/karthik/tryout/LangchainTraining/myenv312/lib/python3.12/site-packages (from requests<3,>=2->langchain_community) (3.10)\n",
      "Requirement already satisfied: urllib3<3,>=1.21.1 in /Users/karthik/tryout/LangchainTraining/myenv312/lib/python3.12/site-packages (from requests<3,>=2->langchain_community) (2.3.0)\n",
      "Requirement already satisfied: certifi>=2017.4.17 in /Users/karthik/tryout/LangchainTraining/myenv312/lib/python3.12/site-packages (from requests<3,>=2->langchain_community) (2025.1.31)\n",
      "Requirement already satisfied: anyio in /Users/karthik/tryout/LangchainTraining/myenv312/lib/python3.12/site-packages (from httpx<1,>=0.23.0->langsmith<0.4,>=0.1.125->langchain_community) (4.8.0)\n",
      "Requirement already satisfied: httpcore==1.* in /Users/karthik/tryout/LangchainTraining/myenv312/lib/python3.12/site-packages (from httpx<1,>=0.23.0->langsmith<0.4,>=0.1.125->langchain_community) (1.0.7)\n",
      "Requirement already satisfied: h11<0.15,>=0.13 in /Users/karthik/tryout/LangchainTraining/myenv312/lib/python3.12/site-packages (from httpcore==1.*->httpx<1,>=0.23.0->langsmith<0.4,>=0.1.125->langchain_community) (0.14.0)\n",
      "Requirement already satisfied: jsonpointer>=1.9 in /Users/karthik/tryout/LangchainTraining/myenv312/lib/python3.12/site-packages (from jsonpatch<2.0,>=1.33->langchain-core<1.0.0,>=0.3.34->langchain_community) (3.0.0)\n",
      "Requirement already satisfied: annotated-types>=0.6.0 in /Users/karthik/tryout/LangchainTraining/myenv312/lib/python3.12/site-packages (from pydantic<3.0.0,>=2.7.4->langchain<1.0.0,>=0.3.18->langchain_community) (0.7.0)\n",
      "Requirement already satisfied: pydantic-core==2.27.2 in /Users/karthik/tryout/LangchainTraining/myenv312/lib/python3.12/site-packages (from pydantic<3.0.0,>=2.7.4->langchain<1.0.0,>=0.3.18->langchain_community) (2.27.2)\n",
      "Collecting mypy-extensions>=0.3.0 (from typing-inspect<1,>=0.4.0->dataclasses-json<0.7,>=0.5.7->langchain_community)\n",
      "  Using cached mypy_extensions-1.0.0-py3-none-any.whl.metadata (1.1 kB)\n",
      "Requirement already satisfied: sniffio>=1.1 in /Users/karthik/tryout/LangchainTraining/myenv312/lib/python3.12/site-packages (from anyio->httpx<1,>=0.23.0->langsmith<0.4,>=0.1.125->langchain_community) (1.3.1)\n",
      "Using cached langchain_community-0.3.17-py3-none-any.whl (2.5 MB)\n",
      "Using cached dataclasses_json-0.6.7-py3-none-any.whl (28 kB)\n",
      "Using cached httpx_sse-0.4.0-py3-none-any.whl (7.8 kB)\n",
      "Using cached pydantic_settings-2.7.1-py3-none-any.whl (29 kB)\n",
      "Using cached marshmallow-3.26.1-py3-none-any.whl (50 kB)\n",
      "Using cached typing_inspect-0.9.0-py3-none-any.whl (8.8 kB)\n",
      "Using cached mypy_extensions-1.0.0-py3-none-any.whl (4.7 kB)\n",
      "Installing collected packages: mypy-extensions, marshmallow, httpx-sse, typing-inspect, pydantic-settings, dataclasses-json, langchain_community\n",
      "Successfully installed dataclasses-json-0.6.7 httpx-sse-0.4.0 langchain_community-0.3.17 marshmallow-3.26.1 mypy-extensions-1.0.0 pydantic-settings-2.7.1 typing-inspect-0.9.0\n",
      "\n",
      "\u001b[1m[\u001b[0m\u001b[34;49mnotice\u001b[0m\u001b[1;39;49m]\u001b[0m\u001b[39;49m A new release of pip is available: \u001b[0m\u001b[31;49m24.2\u001b[0m\u001b[39;49m -> \u001b[0m\u001b[32;49m25.0.1\u001b[0m\n",
      "\u001b[1m[\u001b[0m\u001b[34;49mnotice\u001b[0m\u001b[1;39;49m]\u001b[0m\u001b[39;49m To update, run: \u001b[0m\u001b[32;49mpip install --upgrade pip\u001b[0m\n"
     ]
    }
   ],
   "source": [
    "#!pip install langchain_community"
   ]
  },
  {
   "cell_type": "markdown",
   "metadata": {},
   "source": [
    "### Message history with ChatMessageHistory"
   ]
  },
  {
   "cell_type": "code",
   "execution_count": null,
   "metadata": {},
   "outputs": [],
   "source": [
    "from langchain_core.prompts import ChatPromptTemplate\n",
    "from langchain_core.output_parsers import StrOutputParser\n",
    "from langchain_core.runnables import chain\n",
    "from langchain_core.chat_history import BaseChatMessageHistory\n",
    "from langchain_core.runnables.history import RunnableWithMessageHistory\n",
    "from langchain_community.chat_message_histories import ChatMessageHistory\n"
   ]
  },
  {
   "cell_type": "code",
   "execution_count": 18,
   "metadata": {},
   "outputs": [
    {
     "name": "stdout",
     "output_type": "stream",
     "text": [
      "The average distance between Earth and the Sun is approximately 93 million miles (150 million kilometers). This distance defines one astronomical unit (AU), which is commonly used in astronomy to measure distances within our solar system. The actual distance can vary slightly due to the elliptical shape of Earth's orbit around the Sun, ranging from about 91.4 million miles (147 million km) at perihelion (closest approach) to about 94.5 million miles (152 million km) at aphelion (farthest point).\n",
      "\n",
      "\n",
      "\n",
      "The average distance between the Earth and the Moon is approximately 238,855 miles (384,400 kilometers).\n",
      "\n",
      "To put this into perspective:\n",
      "- At its closest point (perigee), the Moon can be as close as about 225,623 miles (363,104 km) from Earth.\n",
      "- At its farthest point (apogee), it can be up to about 257,397 miles (414,748 km) from Earth.\n",
      "\n",
      "These distances can vary slightly due to the elliptical nature of the Moon's orbit around the Earth.\n"
     ]
    }
   ],
   "source": [
    "template = ChatPromptTemplate.from_messages([\n",
    "     ('placeholder', \"{history}\"),\n",
    "    ('human', \"{prompt}\")\n",
    "])\n",
    "\n",
    "chain = template | llm | StrOutputParser()\n",
    "\n",
    "store = {}\n",
    "\n",
    "def get_session_history(session_id: str) -> BaseChatMessageHistory:\n",
    "    if session_id not in store:\n",
    "        store[session_id] = ChatMessageHistory()\n",
    "    return store[session_id]\n",
    "\n",
    "\n",
    "history = RunnableWithMessageHistory(\n",
    "    chain, \n",
    "    get_session_history,\n",
    "    input_messages_key=\"prompt\",\n",
    "    history_messages_key=\"history\")\n",
    "\n",
    "session_id = \"Karthik\"\n",
    "\n",
    "get_session_history(session_id).clear()\n",
    "\n",
    "response1 = history.invoke({\"prompt\": \"What is the distance between earth and sun?\"},\n",
    "                          config = {\"configurable\": {\"session_id\": session_id}})\n",
    "\n",
    "response2 = history.invoke({\"prompt\": \"How about from moon\"},\n",
    "                          config = {\"configurable\": {\"session_id\": session_id}})\n",
    "\n",
    "print(response1)\n",
    "print(\"\\n\\n\")\n",
    "print(response2)\n",
    "\n"
   ]
  },
  {
   "cell_type": "markdown",
   "metadata": {},
   "source": [
    "### ChatMessage History with SqlChatMessageHistory"
   ]
  },
  {
   "cell_type": "code",
   "execution_count": 20,
   "metadata": {},
   "outputs": [
    {
     "name": "stderr",
     "output_type": "stream",
     "text": [
      "/var/folders/jc/c7p4f2sd36xbqwkp2djn8flc0000gn/T/ipykernel_2795/3415544238.py:23: LangChainDeprecationWarning: `connection_string` was deprecated in LangChain 0.2.2 and will be removed in 1.0. Use connection instead.\n",
      "  get_session_history(session_id).clear()\n"
     ]
    },
    {
     "name": "stdout",
     "output_type": "stream",
     "text": [
      "The average distance between the Earth and the Sun is approximately 93 million miles (150 million kilometers). This average distance defines one astronomical unit (AU), which is commonly used in astronomy to measure distances within our solar system. The actual distance can vary slightly due to the elliptical shape of Earth's orbit around the Sun, ranging from about 91.4 million miles (147 million km) at perihelion (closest approach) to about 94.5 million miles (152 million km) at aphelion (farthest point).\n",
      "\n",
      "\n",
      "\n",
      "The distance between the Earth and the Moon varies slightly due to the elliptical shape of the Moon's orbit around the Earth. On average, the distance is about 238,855 miles (384,400 kilometers).\n",
      "\n",
      "Here are some key points:\n",
      "\n",
      "- **Average Distance**: About 238,855 miles (384,400 km).\n",
      "- **Perigee (Closest Point)**: Approximately 225,623 miles (363,104 km).\n",
      "- **Apogee (Farthest Point)**: Approximately 257,397 miles (414,446 km).\n",
      "\n",
      "These variations are small compared to the distance between Earth and the Sun, but they do affect some astronomical phenomena.\n"
     ]
    }
   ],
   "source": [
    "from langchain_community.chat_message_histories import SQLChatMessageHistory\n",
    "\n",
    "\n",
    "def get_session_history(session_id):\n",
    "    return SQLChatMessageHistory(session_id=session_id, connection_string=\"sqlite:///chathistory.db\")\n",
    "\n",
    "template = ChatPromptTemplate.from_messages([\n",
    "     ('placeholder', \"{history}\"),\n",
    "    ('human', \"{prompt}\")\n",
    "])\n",
    "\n",
    "chain = template | llm | StrOutputParser()\n",
    "\n",
    "history = RunnableWithMessageHistory(\n",
    "    chain, \n",
    "    get_session_history,\n",
    "    input_messages_key=\"prompt\",\n",
    "    history_messages_key=\"history\")\n",
    "\n",
    "\n",
    "session_id = \"Karthik\"\n",
    "\n",
    "get_session_history(session_id).clear()\n",
    "\n",
    "response1 = history.invoke({\"prompt\": \"What is the distance between earth and sun?\"},\n",
    "                          config = {\"configurable\": {\"session_id\": session_id}})\n",
    "\n",
    "response2 = history.invoke({\"prompt\": \"How about from moon\"},\n",
    "                          config = {\"configurable\": {\"session_id\": session_id}})\n",
    "\n",
    "print(response1)\n",
    "print(\"\\n\\n\")\n",
    "print(response2)\n",
    "\n"
   ]
  }
 ],
 "metadata": {
  "kernelspec": {
   "display_name": "myenv312",
   "language": "python",
   "name": "python3"
  },
  "language_info": {
   "codemirror_mode": {
    "name": "ipython",
    "version": 3
   },
   "file_extension": ".py",
   "mimetype": "text/x-python",
   "name": "python",
   "nbconvert_exporter": "python",
   "pygments_lexer": "ipython3",
   "version": "3.12.7"
  }
 },
 "nbformat": 4,
 "nbformat_minor": 2
}
