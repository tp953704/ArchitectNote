{
 "cells": [
  {
   "cell_type": "markdown",
   "metadata": {},
   "source": [
    "## Building Tools for LLM 🛠️\n",
    "\n",
    "<img src=\"./Images/Tools.png\" width=\"800\" height=\"600\" style=\"display: block; margin: auto;\">"
   ]
  },
  {
   "cell_type": "code",
   "execution_count": 1,
   "metadata": {},
   "outputs": [],
   "source": [
    "from dotenv import load_dotenv\n",
    "from langchain_ollama import ChatOllama\n",
    "\n",
    "load = load_dotenv('./../.env')\n",
    "\n",
    "\n",
    "llm = ChatOllama(\n",
    "    base_url=\"http://localhost:11434\",\n",
    "    model = \"qwen2.5:latest\",\n",
    "    temperature=0.5,\n",
    "    max_tokens = 250\n",
    ")"
   ]
  },
  {
   "cell_type": "markdown",
   "metadata": {},
   "source": [
    "### Installing a community"
   ]
  },
  {
   "cell_type": "code",
   "execution_count": 2,
   "metadata": {},
   "outputs": [
    {
     "name": "stdout",
     "output_type": "stream",
     "text": [
      "\n",
      "\u001b[1m[\u001b[0m\u001b[34;49mnotice\u001b[0m\u001b[1;39;49m]\u001b[0m\u001b[39;49m A new release of pip is available: \u001b[0m\u001b[31;49m24.2\u001b[0m\u001b[39;49m -> \u001b[0m\u001b[32;49m25.0.1\u001b[0m\n",
      "\u001b[1m[\u001b[0m\u001b[34;49mnotice\u001b[0m\u001b[1;39;49m]\u001b[0m\u001b[39;49m To update, run: \u001b[0m\u001b[32;49mpip install --upgrade pip\u001b[0m\n"
     ]
    }
   ],
   "source": [
    "!pip install --upgrade --quiet  wikipedia"
   ]
  },
  {
   "cell_type": "code",
   "execution_count": 3,
   "metadata": {},
   "outputs": [],
   "source": [
    "from langchain_community.tools import WikipediaQueryRun\n",
    "from langchain_community.utilities import WikipediaAPIWrapper"
   ]
  },
  {
   "cell_type": "code",
   "execution_count": 4,
   "metadata": {},
   "outputs": [
    {
     "name": "stdout",
     "output_type": "stream",
     "text": [
      "Page: Avatar (franchise)\n",
      "Summary: Avatar is an American epic science fiction media franchise created by James Cameron, which began with the eponymous 2009 film. Produced by 20th Century Studios and distributed by Lightstorm Entertainment, it consists of associated merchandise, video games, and theme park attractions. Avatar is set in the mid-22nd century on Pandora, a lush habitable moon of a gas giant in the Alpha Centauri star system. The films' central conflict is between the indigenous Na'vi led by Jake Sully and Neytiri, and humans led by Colonel Miles Quaritch from the Resources Development Administration (RDA), a megacorp which has arrived on Pandora to colonize and pillage it for its natural resources. The title of the series refers to the genetically engineered Na'vi body operated from the brain that humans pilot to interact with on Pandora.\n",
      "The first installment, Avatar, was released on December 18, 2009, and is the highest grossing motion picture of all-time when ticket price inflation is not considered. The second installment, The Way of Water, was released on December 16, 2022. The planned sequel series was announced by 20th Century Fox on December 11, 2009, one week before Avatar was released to theaters. 20th Century Fox had confirmed the series on January 15, 2010. The Avatar franchise is one of the most expensive franchises undertaken, with the combined budget of the first film and its four sequels estimated at $1 billion. The franchise has grossed more than $5.2 billion worldwide; it is the 15th-highest-grossing film series of all time.\n",
      "Like the original film, the four sequels have \"fully encapsulated\" stand-alone plots that \"come to their own conclusions\". The four films have an overarching meta-narrative that connects them to create a large interconnected saga. Cameron described the sequels as \"a natural extension of all the themes, and the characters, and the spiritual undercurrents\" of the first film.\n",
      "\n",
      "Page: Avatar (2009 film)\n",
      "Summary: Avatar is a 2009 epic science fiction film co-produced, co-edited, written, and directed by James Cameron. The cast includes Sam Worthington, Zoe Saldana, Stephen Lang, Michelle Rodriguez and Sigourney Weaver. It is the first installment in the Avatar film series. It is set in the mid-22nd century, when humans are colonizing Pandora, a lush habitable moon of a gas giant in the Alpha Centauri star system, in order to mine the valuable unobtanium, a room-temperature superconductor mineral. The expansion of the mining colony threatens the continued existence of a local tribe of Na'vi, a humanoid species indigenous to Pandora. The title of the film refers to a genetically engineered Na'vi body operated from the brain of a remotely located human that is used to interact with the natives of Pandora.\n",
      "Development of Avatar began in 1994, when Cameron wrote an 80-page treatment for the film. Filming was supposed to take place after the completion of Cameron's 1997 film Titanic, for a planned release in 1999; however, according to Cameron, the necessary technology was not yet available to achieve his vision of the film. Work on the fictional constructed language of the Na'vi began in 2005, and Cameron began developing the screenplay and fictional universe in early 2006. Avatar was officially budgeted at $237 million, due to the groundbreaking array of new visual effects Cameron achieved in cooperation with Weta Digital in Wellington. Other estimates put the cost at between $280 million and $310 million for production and at $150 million for promotion. The film made extensive use of 3D computer graphics and new motion capture filming techniques, and was released for traditional viewing, 3D viewing (using the RealD 3D, Dolby 3D, XpanD 3D, and IMAX 3D formats), and 4D experiences (in selected South Korean theaters). The series also featured Cameron reunite with his Titanic co-producer Jon Landau, who he would later credit for having a prominent role in the film's production.\n",
      "Avatar prem\n"
     ]
    }
   ],
   "source": [
    "wikipedia = WikipediaQueryRun(api_wrapper=WikipediaAPIWrapper())\n",
    "\n",
    "tool_response = wikipedia.invoke(\"Give me details of Avatar movie\")\n",
    "\n",
    "print(tool_response)"
   ]
  },
  {
   "cell_type": "markdown",
   "metadata": {},
   "source": [
    "### Creating Custom Tools "
   ]
  },
  {
   "cell_type": "code",
   "execution_count": 5,
   "metadata": {},
   "outputs": [
    {
     "name": "stdout",
     "output_type": "stream",
     "text": [
      "30\n"
     ]
    }
   ],
   "source": [
    "from langchain.tools import tool\n",
    "\n",
    "@tool\n",
    "def add_numbers(a: int, b: int) -> int:\n",
    "    \"Add two numbers and return results.\"\n",
    "    return int(a) + int(b)\n",
    "\n",
    "@tool\n",
    "def subtract_numbers(a: int, b: int) -> int:\n",
    "    \"Subtract two numbers and return results.\"\n",
    "    return int(a) - int(b)\n",
    "\n",
    "@tool\n",
    "def multiply_numbers(a: int, b: int) -> int:\n",
    "    \"Multiply two numbers and return results.\"\n",
    "    return int(a) * int(b)\n",
    "\n",
    "print(add_numbers.invoke({\"a\": 10, \"b\": 20}))"
   ]
  },
  {
   "cell_type": "code",
   "execution_count": 6,
   "metadata": {},
   "outputs": [
    {
     "name": "stdout",
     "output_type": "stream",
     "text": [
      "[{'name': 'multiply_numbers', 'args': {'a': 2, 'b': 2}, 'id': '71de6e56-870e-4da6-a3ad-8004b71f57a7', 'type': 'tool_call'}]\n"
     ]
    }
   ],
   "source": [
    "tools = [wikipedia, add_numbers, subtract_numbers, multiply_numbers]\n",
    "\n",
    "list_of_tools = {tool.name: tool for tool in tools}\n",
    "\n",
    "list_of_tools\n",
    "\n",
    "# response = llm.invoke(\"When did avatar movie released the ways of water?\")\n",
    "\n",
    "# print(response.content)\n",
    "\n",
    "llm_with_tools = llm.bind_tools(tools=tools)\n",
    "\n",
    "tool_call_response = llm_with_tools.invoke(\"What is the double of 2\")\n",
    "\n",
    "print(tool_call_response.tool_calls)\n",
    "\n"
   ]
  },
  {
   "cell_type": "markdown",
   "metadata": {},
   "source": [
    "### Execute the custom tools from LLM"
   ]
  },
  {
   "cell_type": "code",
   "execution_count": 7,
   "metadata": {},
   "outputs": [
    {
     "data": {
      "text/plain": [
       "[HumanMessage(content='What is the double of 2', additional_kwargs={}, response_metadata={}),\n",
       " AIMessage(content='', additional_kwargs={}, response_metadata={'model': 'qwen2.5:latest', 'created_at': '2025-02-18T21:07:45.230058Z', 'done': True, 'done_reason': 'stop', 'total_duration': 1220774083, 'load_duration': 11453000, 'prompt_eval_count': 371, 'prompt_eval_duration': 24000000, 'eval_count': 55, 'eval_duration': 1182000000, 'message': Message(role='assistant', content='', images=None, tool_calls=None)}, id='run-01fcaae8-8799-45a2-aff3-cbe4843a7c25-0', tool_calls=[{'name': 'multiply_numbers', 'args': {'a': 2, 'b': 2}, 'id': '757b9b05-036c-49d9-8701-56e71e96614b', 'type': 'tool_call'}], usage_metadata={'input_tokens': 371, 'output_tokens': 55, 'total_tokens': 426})]"
      ]
     },
     "execution_count": 7,
     "metadata": {},
     "output_type": "execute_result"
    }
   ],
   "source": [
    "from langchain_core.messages import HumanMessage\n",
    "\n",
    "query = \"What is the double of 2\"\n",
    "\n",
    "message = [HumanMessage(query)]\n",
    "\n",
    "\n",
    "ai_message = llm_with_tools.invoke(query)\n",
    "\n",
    "message.append(ai_message)\n",
    "\n",
    "message"
   ]
  },
  {
   "cell_type": "code",
   "execution_count": 8,
   "metadata": {},
   "outputs": [
    {
     "data": {
      "text/plain": [
       "[HumanMessage(content='What is the double of 2', additional_kwargs={}, response_metadata={}),\n",
       " AIMessage(content='', additional_kwargs={}, response_metadata={'model': 'qwen2.5:latest', 'created_at': '2025-02-18T21:07:45.230058Z', 'done': True, 'done_reason': 'stop', 'total_duration': 1220774083, 'load_duration': 11453000, 'prompt_eval_count': 371, 'prompt_eval_duration': 24000000, 'eval_count': 55, 'eval_duration': 1182000000, 'message': Message(role='assistant', content='', images=None, tool_calls=None)}, id='run-01fcaae8-8799-45a2-aff3-cbe4843a7c25-0', tool_calls=[{'name': 'multiply_numbers', 'args': {'a': 2, 'b': 2}, 'id': '757b9b05-036c-49d9-8701-56e71e96614b', 'type': 'tool_call'}], usage_metadata={'input_tokens': 371, 'output_tokens': 55, 'total_tokens': 426}),\n",
       " ToolMessage(content='4', name='multiply_numbers', tool_call_id='757b9b05-036c-49d9-8701-56e71e96614b')]"
      ]
     },
     "execution_count": 8,
     "metadata": {},
     "output_type": "execute_result"
    }
   ],
   "source": [
    "for tool_call in ai_message.tool_calls:\n",
    "    tool_name = tool_call['name'].lower()\n",
    "    \n",
    "    execute_tool = list_of_tools[tool_name]\n",
    "    \n",
    "    tool_invoke = execute_tool.invoke(tool_call)\n",
    "    \n",
    "    message.append(tool_invoke)\n",
    "    \n",
    "message"
   ]
  },
  {
   "cell_type": "code",
   "execution_count": 9,
   "metadata": {},
   "outputs": [
    {
     "name": "stdout",
     "output_type": "stream",
     "text": [
      "The double of 2 is 4.\n"
     ]
    }
   ],
   "source": [
    "final_output = llm_with_tools.invoke(message)\n",
    "\n",
    "print(final_output.content)"
   ]
  }
 ],
 "metadata": {
  "kernelspec": {
   "display_name": "myenv312",
   "language": "python",
   "name": "python3"
  },
  "language_info": {
   "codemirror_mode": {
    "name": "ipython",
    "version": 3
   },
   "file_extension": ".py",
   "mimetype": "text/x-python",
   "name": "python",
   "nbconvert_exporter": "python",
   "pygments_lexer": "ipython3",
   "version": "3.12.7"
  }
 },
 "nbformat": 4,
 "nbformat_minor": 2
}
