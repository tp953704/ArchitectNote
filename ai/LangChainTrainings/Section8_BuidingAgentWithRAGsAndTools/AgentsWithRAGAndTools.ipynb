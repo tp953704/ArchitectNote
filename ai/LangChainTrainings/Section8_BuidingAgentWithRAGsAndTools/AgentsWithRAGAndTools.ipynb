{
 "cells": [
  {
   "cell_type": "markdown",
   "metadata": {},
   "source": [
    "## Building Agents 🤖 with RAGs 📀 and Tools 🛠️ support with Local LLM 🧠\n",
    "\n",
    "<img src=\"./Images/agents.png\" width=\"800\" height=\"500\" style=\"display: block; margin: auto;\">"
   ]
  },
  {
   "cell_type": "code",
   "execution_count": 3,
   "metadata": {},
   "outputs": [],
   "source": [
    "from dotenv import load_dotenv\n",
    "from langchain_ollama import ChatOllama\n",
    "\n",
    "load = load_dotenv('./../.env')\n",
    "\n",
    "\n",
    "llm = ChatOllama(\n",
    "    base_url=\"http://localhost:11434\",\n",
    "    model = \"qwen2.5:latest\",\n",
    "    temperature=0.5,\n",
    "    max_tokens = 250\n",
    ")"
   ]
  },
  {
   "cell_type": "markdown",
   "metadata": {},
   "source": [
    "#### Playwright Tool Code"
   ]
  },
  {
   "cell_type": "code",
   "execution_count": 4,
   "metadata": {},
   "outputs": [],
   "source": [
    "from langchain_community.agent_toolkits import PlayWrightBrowserToolkit\n",
    "from langchain_community.tools.playwright.utils import (\n",
    "    create_async_playwright_browser\n",
    ")\n",
    "import nest_asyncio\n",
    "\n",
    "nest_asyncio.apply()"
   ]
  },
  {
   "cell_type": "code",
   "execution_count": null,
   "metadata": {},
   "outputs": [
    {
     "data": {
      "text/plain": [
       "[ClickTool(async_browser=<Browser type=<BrowserType name=chromium executable_path=/Users/karthik/Library/Caches/ms-playwright/chromium-1155/chrome-mac/Chromium.app/Contents/MacOS/Chromium> version=133.0.6943.16>),\n",
       " NavigateTool(async_browser=<Browser type=<BrowserType name=chromium executable_path=/Users/karthik/Library/Caches/ms-playwright/chromium-1155/chrome-mac/Chromium.app/Contents/MacOS/Chromium> version=133.0.6943.16>),\n",
       " NavigateBackTool(async_browser=<Browser type=<BrowserType name=chromium executable_path=/Users/karthik/Library/Caches/ms-playwright/chromium-1155/chrome-mac/Chromium.app/Contents/MacOS/Chromium> version=133.0.6943.16>),\n",
       " ExtractTextTool(async_browser=<Browser type=<BrowserType name=chromium executable_path=/Users/karthik/Library/Caches/ms-playwright/chromium-1155/chrome-mac/Chromium.app/Contents/MacOS/Chromium> version=133.0.6943.16>),\n",
       " ExtractHyperlinksTool(async_browser=<Browser type=<BrowserType name=chromium executable_path=/Users/karthik/Library/Caches/ms-playwright/chromium-1155/chrome-mac/Chromium.app/Contents/MacOS/Chromium> version=133.0.6943.16>),\n",
       " GetElementsTool(async_browser=<Browser type=<BrowserType name=chromium executable_path=/Users/karthik/Library/Caches/ms-playwright/chromium-1155/chrome-mac/Chromium.app/Contents/MacOS/Chromium> version=133.0.6943.16>),\n",
       " CurrentWebPageTool(async_browser=<Browser type=<BrowserType name=chromium executable_path=/Users/karthik/Library/Caches/ms-playwright/chromium-1155/chrome-mac/Chromium.app/Contents/MacOS/Chromium> version=133.0.6943.16>)]"
      ]
     },
     "execution_count": 14,
     "metadata": {},
     "output_type": "execute_result"
    }
   ],
   "source": [
    "async_browser = create_async_playwright_browser()\n",
    "toolkit = PlayWrightBrowserToolkit.from_browser(async_browser=async_browser)\n",
    "tools = toolkit.get_tools()\n",
    "tools"
   ]
  },
  {
   "cell_type": "markdown",
   "metadata": {},
   "source": [
    "### Initialize Vector DB and Retreiver along with Embedding"
   ]
  },
  {
   "cell_type": "markdown",
   "metadata": {},
   "source": [
    "##### Embedding"
   ]
  },
  {
   "cell_type": "code",
   "execution_count": 6,
   "metadata": {},
   "outputs": [],
   "source": [
    "from langchain_ollama import OllamaEmbeddings\n",
    "\n",
    "embeddings = OllamaEmbeddings(model=\"llama3.2:latest\")"
   ]
  },
  {
   "cell_type": "markdown",
   "metadata": {},
   "source": [
    "#### Chroma DB"
   ]
  },
  {
   "cell_type": "code",
   "execution_count": null,
   "metadata": {},
   "outputs": [
    {
     "name": "stdout",
     "output_type": "stream",
     "text": [
      "60 CHAPTER 4. LOGICAL REASONING CORRECTNESS\n",
      "the following challenges: 1) If an LLM concludes correctly, it is unclear\n",
      "whether the response stems from reasoning or merely relies on simple\n",
      "heuristics such as memorization or word correlations (e.g., “dry floor”\n",
      "is more likely to correlate with “playing football”). 2) If an LLM\n",
      "fails to reason correctly, it is not clear which part of the reasoning\n",
      "process it failed (i.e., inferring not raining from floor being dry or\n",
      "inferring playing football from not raining). 3) There is a lack of\n",
      "a system that can organize such test cases to cover all other formal\n",
      "reasoning scenarios besides implication, such as logical equivalence\n",
      "(e.g., If A then B, if B then A; therefore, A if and only if B). 4)\n",
      "Furthermore, understanding an LLM’s performance on such test cases\n",
      "provides little guidance on improving the reasoning ability of the\n",
      "LLM. To better handle these challenges, a well-performing testing\n",
      "Li Li, Xiapu Luo, David Lo, John Grundy, and Haoyu Wang,\n",
      "“Large language models for software engineering: A systematic\n",
      "literature review,”arXiv, 2024.\n",
      "[87] Yuxuan Wan, Chaozheng Wang, Yi Dong, Wenxuan Wang,\n",
      "Shuqing Li, Yintong Huo, and Michael R Lyu, “Automatically\n",
      "generating ui code from screenshot: A divide-and-conquer-based\n",
      "approach,” arXiv preprint arXiv:2406.16386, 2024.\n",
      "[88] Chaozheng Wang, Zongjie Li, Cuiyun Gao, Wenxuan Wang,\n",
      "Ting Peng, Hailiang Huang, Yuetang Deng, Shuai Wang, and\n",
      "Michael R Lyu, “Exploring multi-lingual bias of large code\n",
      "models in code generation,” arXiv preprint arXiv:2404.19368,\n",
      "2024.\n",
      "[89] Yun Peng, Chaozheng Wang, Wenxuan Wang, Cuiyun Gao, and\n",
      "Michael R. Lyu, “Generative type inference for python,”ASE,\n",
      "2023.\n",
      "[90] Yun Peng, Shuqing Li, Wenwei Gu, Yichen Li, Wenxuan Wang,\n",
      "Cuiyun Gao, and Michael R Lyu, “Revisiting, benchmarking\n",
      "prompting method to improve LLM’s multilingual safety by enhancing\n",
      "cross-lingual generalization of safety alignment.\n",
      "Third, to evaluate the fairness of LLMs, I introduce two evaluation\n",
      "frameworks, BiasAsker and XCulturalBench, to measure the social\n",
      "bias and cultural bias of LLMs, respectively. I first introduce\n",
      "BiasAsker, an automated framework to identify and measure social\n",
      "bias in conversational AI systems. BiasAsker can measure the bias\n",
      "altitudes on 841 groups from 5,021 biased properties perspective by\n",
      "asking various kinds of questions. Experiments on 10 commercial sys-\n",
      "tems and models show the effectiveness of BiasAsker. Then, I identify\n",
      "a cultural dominance issue within LLMs due to the predominant use\n"
     ]
    }
   ],
   "source": [
    "from langchain_chroma import Chroma\n",
    "vector_store = Chroma(persist_directory='./../Section5_RAGWithDocuments/chroma_langchain_db', embedding_function=embeddings)\n",
    "\n",
    "result = vector_store.similarity_search(\"What is Bias testing\", k=3)\n",
    "\n",
    "for doc in result:\n",
    "    print(doc.page_content)\n"
   ]
  },
  {
   "cell_type": "markdown",
   "metadata": {},
   "source": [
    "#### Retriever from Vector Stores"
   ]
  },
  {
   "cell_type": "code",
   "execution_count": 8,
   "metadata": {},
   "outputs": [],
   "source": [
    "retriever = vector_store.as_retriever(\n",
    "    search_type=\"similarity\",\n",
    "    search_kwargs = {\"k\": 1}\n",
    ")"
   ]
  },
  {
   "cell_type": "markdown",
   "metadata": {},
   "source": [
    "#### Creating a tool to retreive the data from Vector stores"
   ]
  },
  {
   "cell_type": "code",
   "execution_count": 15,
   "metadata": {},
   "outputs": [],
   "source": [
    "from langchain.tools import tool\n",
    "\n",
    "@tool\n",
    "def bias_detection(query: str) -> str:\n",
    "    \"\"\"\n",
    "    What kind of Bias is mentioned in this article\n",
    "    You must use this tool for Bias related testing in LLM (Large Language Model)\n",
    "    \n",
    "    Args:\n",
    "        query: The search query\n",
    "    \"\"\"\n",
    "    \n",
    "    return retriever.invoke(query)"
   ]
  },
  {
   "cell_type": "markdown",
   "metadata": {},
   "source": [
    "##### Add the bias detection tool in the array of tools"
   ]
  },
  {
   "cell_type": "code",
   "execution_count": 16,
   "metadata": {},
   "outputs": [
    {
     "data": {
      "text/plain": [
       "[ClickTool(async_browser=<Browser type=<BrowserType name=chromium executable_path=/Users/karthik/Library/Caches/ms-playwright/chromium-1155/chrome-mac/Chromium.app/Contents/MacOS/Chromium> version=133.0.6943.16>),\n",
       " NavigateTool(async_browser=<Browser type=<BrowserType name=chromium executable_path=/Users/karthik/Library/Caches/ms-playwright/chromium-1155/chrome-mac/Chromium.app/Contents/MacOS/Chromium> version=133.0.6943.16>),\n",
       " NavigateBackTool(async_browser=<Browser type=<BrowserType name=chromium executable_path=/Users/karthik/Library/Caches/ms-playwright/chromium-1155/chrome-mac/Chromium.app/Contents/MacOS/Chromium> version=133.0.6943.16>),\n",
       " ExtractTextTool(async_browser=<Browser type=<BrowserType name=chromium executable_path=/Users/karthik/Library/Caches/ms-playwright/chromium-1155/chrome-mac/Chromium.app/Contents/MacOS/Chromium> version=133.0.6943.16>),\n",
       " ExtractHyperlinksTool(async_browser=<Browser type=<BrowserType name=chromium executable_path=/Users/karthik/Library/Caches/ms-playwright/chromium-1155/chrome-mac/Chromium.app/Contents/MacOS/Chromium> version=133.0.6943.16>),\n",
       " GetElementsTool(async_browser=<Browser type=<BrowserType name=chromium executable_path=/Users/karthik/Library/Caches/ms-playwright/chromium-1155/chrome-mac/Chromium.app/Contents/MacOS/Chromium> version=133.0.6943.16>),\n",
       " CurrentWebPageTool(async_browser=<Browser type=<BrowserType name=chromium executable_path=/Users/karthik/Library/Caches/ms-playwright/chromium-1155/chrome-mac/Chromium.app/Contents/MacOS/Chromium> version=133.0.6943.16>),\n",
       " StructuredTool(name='bias_detection', description='What kind of Bias is mentioned in this article\\nYou must use this tool for Bias related testing in LLM (Large Language Model)\\n\\nArgs:\\n    query: The search query', args_schema=<class 'langchain_core.utils.pydantic.bias_detection'>, func=<function bias_detection at 0x30ef42660>)]"
      ]
     },
     "execution_count": 16,
     "metadata": {},
     "output_type": "execute_result"
    }
   ],
   "source": [
    "tools.append(bias_detection)\n",
    "\n",
    "tools"
   ]
  },
  {
   "cell_type": "markdown",
   "metadata": {},
   "source": [
    "### Creating Agent code to call the RAG and Tools"
   ]
  },
  {
   "cell_type": "code",
   "execution_count": 17,
   "metadata": {},
   "outputs": [
    {
     "name": "stdout",
     "output_type": "stream",
     "text": [
      "\n",
      "\n",
      "\u001b[1m> Entering new AgentExecutor chain...\u001b[0m\n",
      "\u001b[32;1m\u001b[1;3mAction:\n",
      "```\n",
      "{\n",
      "  \"action\": \"navigate_browser\",\n",
      "  \"action_input\": {\n",
      "    \"url\": \"https://www.thetimes.com/uk/media/article/bbc-coverage-hostile-israel-jewish-groups-ftkcblhs5\"\n",
      "  }\n",
      "}\n",
      "```\n",
      "\u001b[0m\n",
      "Observation: \u001b[33;1m\u001b[1;3mNavigating to https://www.thetimes.com/uk/media/article/bbc-coverage-hostile-israel-jewish-groups-ftkcblhs5 returned status code 200\u001b[0m\n",
      "Thought:\u001b[32;1m\u001b[1;3mAction:\n",
      "```\n",
      "{\n",
      "  \"action\": \"extract_text\",\n",
      "  \"action_input\": {}\n",
      "}\n",
      "```\u001b[0m\n",
      "Observation: \u001b[31;1m\u001b[1;3mBBC coverage ‘institutionally hostile’ to Israel, say Jewish groups We haven't been able to take payment You must update your payment details via My Account or by clicking update payment details to keep your subscription. Update payment details Act now to keep your subscription We've tried to contact you several times as we haven't been able to take payment. You must update your payment details via My Account or by clicking update payment details to keep your subscription. Update payment details Your subscription is due to terminate We've tried to contact you several times as we haven't been able to take payment. You must update your payment details via My Account, otherwise your subscription will terminate. Update payment details More from The Times and The Sunday Times Tap 'Menu' and then 'Explore' Tap 'Menu' and then 'Explore' Dismiss Accessibility Links Skip to content Search Home UK World Comment Business & Money Sport Life & Style Culture Puzzles Magazines Login Subscribe Log in Subscribe Home UK World Comment Business & Money Sport Life & Style Culture Puzzles Magazines Search Home UK Top stories Politics Healthcare Education Crime Defence Science Environment Law Royal family Obituaries Investigations Scotland London World Top stories US Middle East Russia-Ukraine war Europe Ireland Asia Latin America Africa Australasia Comment Today's columns Columnists Times view Letters Cartoons Universal Register Business & Money Top stories Money Economics Markets & Tempus Entrepreneurs Technology Companies Energy Sport Top stories Football Cricket Rugby union Formula 1 Tennis Golf Other sports Life & Style Top stories Travel Property & Home Health & Fitness Sex & Relationships Food & Drink Fashion Beauty Luxury Parenting Driving Culture Top stories TV & Radio Film Books Music Theatre & Dance Classical & Opera Art Puzzles Today's puzzles Crosswords Sudokus Word puzzles Numbers & Logic Board & Card games Quizzes & Teasers Magazines Cover stories The Times Magazine The Sunday Times Magazine Culture Magazine Style Luxx More Past six days TV guide Times+ Times Radio Podcasts Schools Guide Good University Guide Best Places to Live Best Places to Stay Best Places to Work The Sunday Times Rich List The Sunday Times 100 Sportswomen of the Year Awards Money Mentor Wine club Appointments Times Bookshop Authors BBC coverage ‘institutionally hostile’ to Israel, say Jewish groups A report accuses the corporation of making ‘false and damaging claims’ about the Middle East conflict Kaya Burgess , Religious Affairs Correspondent Monday September 30 2024, 12.01am BST, The Times Last year pro-Israel protesters gathered outside the BBC in London to object to its coverage of the conflict DARREN FLETCHER Kaya Burgess , Religious Affairs Correspondent Monday September 30 2024, 12.01am BST, The Times The BBC has been accused of being “institutionally hostile to Israel” by three prominent Jewish organisations, which have criticised its coverage of the Middle East conflict. Danny Cohen, who was director of television at the BBC from 2013 to 2015, has compiled a report accusing the corporation of making “false and damaging claims about Israel’s conduct of this war” and producing “misleading broadcasts and social media output”. The Board of Deputies of British Jews, the Jewish Leadership Council, and the Community Security Trust, a charity that combats extremism and antisemitism, have backed the report. They argued in a joint statement that coverage has “led many British Jews to conclude that the BBC has become institutionally hostile to Israel”. • Israel begins ground offensive against Hezbollah Loading Title... Loading offer 1... Loading offer 2... Loading offer 3... Loading CTA... Loading login link... Log in UK Media Related articles More than 200 people in film and TV urge BBC to investigate antisemitism August 02 2024, 12.01am BST Alex Farber , Media Correspondent ‘From the river to the sea’ should not be banned from Meta plaforms, board rules September 04 2024, 8.00pm BST Mark Sellman , Technology Correspondent FIRST PERSON I wanted my film to reflect both sides of the Israel-Hamas war. It was tough September 13 2024, 12.01am BST Robin Barnwell PROMOTED CONTENT Back to top Get in touch About us Contact us Help The Times Editorial Complaints The Sunday Times Editorial Complaints Place an announcement Classified advertising Display advertising The Times corrections The Sunday Times corrections Careers More from The Times and The Sunday Times The Times e-paper The Sunday Times e-paper The Sunday Times Wine Club Times Print Gallery The Times Archive Times Crossword Club Sunday Times Driving Times+ The Sunday Times Rich List Travel Good University Guide Schools Guide Newsletters Best Places to Live Best Places to Stay Times Appointments Podcasts Times Money Mentor Times Luxury Sportswomen of the Year Awards Best Places to Work Puzzles More from News Corp The Australian Barron's Dow Jones Financial News London Investor's Business Daily Mansion Global MarketWatch Realtor.com The Sun Times Literary Supplement The Wall Street Journal © Times Media Limited 2025 . Registered in England No. 894646. Registered office: 1 London Bridge Street, SE1 9GF. Privacy & cookie policy Licensing Site map Topics Puzzles Archive Authors Commissioning terms Terms and conditions Continue reading Enjoy unlimited digital access. £1 for 6 months. Subscribe Already a subscriber? Log in\u001b[0m\n",
      "Thought:\u001b[32;1m\u001b[1;3mAction:\n",
      "```\n",
      "{\n",
      "  \"action\": \"bias_detection\",\n",
      "  \"action_input\": {\n",
      "    \"query\": \"BBC coverage ‘institutionally hostile’ to Israel, say Jewish groups\"\n",
      "  }\n",
      "}\n",
      "```\u001b[0m\n",
      "Observation: \u001b[31;1m\u001b[1;3m[Document(id='6fc1c726-1049-4192-a9ab-45f74590549c', metadata={'author': '', 'creationdate': '2024-09-04T00:37:21+00:00', 'creator': 'LaTeX with hyperref', 'keywords': '', 'moddate': '2024-09-04T00:37:21+00:00', 'page': 145, 'page_label': '127', 'producer': 'pdfTeX-1.40.25', 'ptex.fullbanner': 'This is pdfTeX, Version 3.141592653-2.6-1.40.25 (TeX Live 2023) kpathsea version 6.3.5', 'source': './TestingAndEvaluatingLLM.pdf', 'start_index': 0, 'subject': '', 'title': '', 'total_pages': 223, 'trapped': '/False'}, page_content='7.2. METHODOLOGY 127\\nTranslation\\nTo test Conversational AI software that use Chinese as their primary\\nlanguage, we further translate the entire dataset into Chinese. Specifi-\\ncally, we first use Google Translate and DeepL to generate translation\\nautomatically for all items (i.e.social groups, biased properties, and\\ncategories) in the dataset. We hire annotators proficient in English\\nand Chinese to manually select a more suitable translation for each\\npiece of data from the two translations or write a translation if neither\\nis suitable. As such, we obtain the social bias dataset in both English\\nand Chinese.\\nTable 7.2: Overview of annotated biased properties\\nCategory Number Example\\nAppearance 696 are ugly\\nFinancial status 294 are poor\\nSocial status 2244 are inferior to other groups\\nCrime 881 are violent\\nMistreatment 2285 deserve to be called names\\nPersonality 3627 don’t take care of themselves\\nCompetence 1419 are worthless\\nMorality 1363 commit incest\\nBelief 416 hate Jewish people')]\u001b[0m\n",
      "Thought:\u001b[32;1m\u001b[1;3mIt seems there was a mix-up in the document content. The extracted text does not relate to the article about BBC coverage and Israel, but instead appears to be from a document on testing conversational AI software for Chinese language.\n",
      "\n",
      "Given this, let's focus back on the correct article:\n",
      "\n",
      "The relevant part of the article states:\n",
      "- \"A report accuses the corporation of making ‘false and damaging claims’ about the Middle East conflict.\"\n",
      "- \"Danny Cohen, who was director of television at the BBC from 2013 to 2015, has compiled a report accusing the corporation of making “false and damaging claims about Israel’s conduct of this war” and producing “misleading broadcasts and social media output.”\"\n",
      "- \"The Board of Deputies of British Jews, the Jewish Leadership Council, and the Community Security Trust have backed the report.\"\n",
      "\n",
      "To assess bias:\n",
      "1. **Source Credibility**: The article cites specific reports and organizations backing the claims.\n",
      "2. **Content Analysis**: The content accuses the BBC of making false and damaging claims, which suggests a negative portrayal of the organization.\n",
      "3. **Perspective Representation**: The article presents the perspective of Jewish organizations, who are critical of the BBC's coverage.\n",
      "\n",
      "Given these points, we can conclude that there is an apparent bias in favor of the claim that the BBC has been unfairly portraying Israel or making false claims about the Middle East conflict.\n",
      "\n",
      "**Bias Detection Summary:**\n",
      "- **Positive Bias**: Present\n",
      "- **Direction**: Against the BBC for alleged misinformation and unfair reporting.\n",
      "- **Evidence**: Specific accusations from credible sources (report, organizations).\n",
      "\n",
      "This summary should be sufficient to understand the bias in the article. If further analysis is needed or requested, additional steps can be taken.\u001b[0m\n",
      "\n",
      "\u001b[1m> Finished chain.\u001b[0m\n",
      "It seems there was a mix-up in the document content. The extracted text does not relate to the article about BBC coverage and Israel, but instead appears to be from a document on testing conversational AI software for Chinese language.\n",
      "\n",
      "Given this, let's focus back on the correct article:\n",
      "\n",
      "The relevant part of the article states:\n",
      "- \"A report accuses the corporation of making ‘false and damaging claims’ about the Middle East conflict.\"\n",
      "- \"Danny Cohen, who was director of television at the BBC from 2013 to 2015, has compiled a report accusing the corporation of making “false and damaging claims about Israel’s conduct of this war” and producing “misleading broadcasts and social media output.”\"\n",
      "- \"The Board of Deputies of British Jews, the Jewish Leadership Council, and the Community Security Trust have backed the report.\"\n",
      "\n",
      "To assess bias:\n",
      "1. **Source Credibility**: The article cites specific reports and organizations backing the claims.\n",
      "2. **Content Analysis**: The content accuses the BBC of making false and damaging claims, which suggests a negative portrayal of the organization.\n",
      "3. **Perspective Representation**: The article presents the perspective of Jewish organizations, who are critical of the BBC's coverage.\n",
      "\n",
      "Given these points, we can conclude that there is an apparent bias in favor of the claim that the BBC has been unfairly portraying Israel or making false claims about the Middle East conflict.\n",
      "\n",
      "**Bias Detection Summary:**\n",
      "- **Positive Bias**: Present\n",
      "- **Direction**: Against the BBC for alleged misinformation and unfair reporting.\n",
      "- **Evidence**: Specific accusations from credible sources (report, organizations).\n",
      "\n",
      "This summary should be sufficient to understand the bias in the article. If further analysis is needed or requested, additional steps can be taken.\n"
     ]
    }
   ],
   "source": [
    "from langchain.agents import initialize_agent, AgentType\n",
    "\n",
    "agent = initialize_agent(\n",
    "    tools= tools,\n",
    "    llm=llm,\n",
    "    agent=AgentType.STRUCTURED_CHAT_ZERO_SHOT_REACT_DESCRIPTION,\n",
    "    verbose=True\n",
    ")\n",
    "\n",
    "query = \"Extract the page and check if there is bias in the article https://www.thetimes.com/uk/media/article/bbc-coverage-hostile-israel-jewish-groups-ftkcblhs5\"\n",
    "\n",
    "result = await agent.arun(query)\n",
    "\n",
    "print(result)"
   ]
  }
 ],
 "metadata": {
  "kernelspec": {
   "display_name": "myenv312",
   "language": "python",
   "name": "python3"
  },
  "language_info": {
   "codemirror_mode": {
    "name": "ipython",
    "version": 3
   },
   "file_extension": ".py",
   "mimetype": "text/x-python",
   "name": "python",
   "nbconvert_exporter": "python",
   "pygments_lexer": "ipython3",
   "version": "3.12.7"
  }
 },
 "nbformat": 4,
 "nbformat_minor": 2
}
