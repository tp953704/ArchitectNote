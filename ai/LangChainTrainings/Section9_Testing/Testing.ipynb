{
 "cells": [
  {
   "cell_type": "markdown",
   "metadata": {},
   "source": [
    "### Testing RAG and Agents 🧪"
   ]
  },
  {
   "cell_type": "markdown",
   "metadata": {},
   "source": [
    "### Installing RAGAS"
   ]
  },
  {
   "cell_type": "code",
   "execution_count": 1,
   "metadata": {},
   "outputs": [
    {
     "name": "stdout",
     "output_type": "stream",
     "text": [
      "Collecting ragas\n",
      "  Using cached ragas-0.2.13-py3-none-any.whl.metadata (8.3 kB)\n",
      "Requirement already satisfied: numpy in /Users/karthik/tryout/LangchainTraining/myenv312/lib/python3.12/site-packages (from ragas) (1.26.4)\n",
      "Collecting datasets (from ragas)\n",
      "  Downloading datasets-3.3.2-py3-none-any.whl.metadata (19 kB)\n",
      "Collecting tiktoken (from ragas)\n",
      "  Using cached tiktoken-0.9.0-cp312-cp312-macosx_11_0_arm64.whl.metadata (6.7 kB)\n",
      "Requirement already satisfied: langchain in /Users/karthik/tryout/LangchainTraining/myenv312/lib/python3.12/site-packages (from ragas) (0.3.18)\n",
      "Requirement already satisfied: langchain-core in /Users/karthik/tryout/LangchainTraining/myenv312/lib/python3.12/site-packages (from ragas) (0.3.35)\n",
      "Requirement already satisfied: langchain-community in /Users/karthik/tryout/LangchainTraining/myenv312/lib/python3.12/site-packages (from ragas) (0.3.17)\n",
      "Collecting langchain_openai (from ragas)\n",
      "  Using cached langchain_openai-0.3.6-py3-none-any.whl.metadata (2.3 kB)\n",
      "Requirement already satisfied: nest-asyncio in /Users/karthik/tryout/LangchainTraining/myenv312/lib/python3.12/site-packages (from ragas) (1.6.0)\n",
      "Collecting appdirs (from ragas)\n",
      "  Using cached appdirs-1.4.4-py2.py3-none-any.whl.metadata (9.0 kB)\n",
      "Requirement already satisfied: pydantic>=2 in /Users/karthik/tryout/LangchainTraining/myenv312/lib/python3.12/site-packages (from ragas) (2.10.6)\n",
      "Collecting openai>1 (from ragas)\n",
      "  Using cached openai-1.63.2-py3-none-any.whl.metadata (27 kB)\n",
      "Collecting diskcache>=5.6.3 (from ragas)\n",
      "  Using cached diskcache-5.6.3-py3-none-any.whl.metadata (20 kB)\n",
      "Requirement already satisfied: anyio<5,>=3.5.0 in /Users/karthik/tryout/LangchainTraining/myenv312/lib/python3.12/site-packages (from openai>1->ragas) (4.8.0)\n",
      "Collecting distro<2,>=1.7.0 (from openai>1->ragas)\n",
      "  Using cached distro-1.9.0-py3-none-any.whl.metadata (6.8 kB)\n",
      "Requirement already satisfied: httpx<1,>=0.23.0 in /Users/karthik/tryout/LangchainTraining/myenv312/lib/python3.12/site-packages (from openai>1->ragas) (0.28.1)\n",
      "Collecting jiter<1,>=0.4.0 (from openai>1->ragas)\n",
      "  Using cached jiter-0.8.2-cp312-cp312-macosx_11_0_arm64.whl.metadata (5.2 kB)\n",
      "Requirement already satisfied: sniffio in /Users/karthik/tryout/LangchainTraining/myenv312/lib/python3.12/site-packages (from openai>1->ragas) (1.3.1)\n",
      "Requirement already satisfied: tqdm>4 in /Users/karthik/tryout/LangchainTraining/myenv312/lib/python3.12/site-packages (from openai>1->ragas) (4.67.1)\n",
      "Requirement already satisfied: typing-extensions<5,>=4.11 in /Users/karthik/tryout/LangchainTraining/myenv312/lib/python3.12/site-packages (from openai>1->ragas) (4.12.2)\n",
      "Requirement already satisfied: annotated-types>=0.6.0 in /Users/karthik/tryout/LangchainTraining/myenv312/lib/python3.12/site-packages (from pydantic>=2->ragas) (0.7.0)\n",
      "Requirement already satisfied: pydantic-core==2.27.2 in /Users/karthik/tryout/LangchainTraining/myenv312/lib/python3.12/site-packages (from pydantic>=2->ragas) (2.27.2)\n",
      "Requirement already satisfied: filelock in /Users/karthik/tryout/LangchainTraining/myenv312/lib/python3.12/site-packages (from datasets->ragas) (3.17.0)\n",
      "Requirement already satisfied: pyarrow>=15.0.0 in /Users/karthik/tryout/LangchainTraining/myenv312/lib/python3.12/site-packages (from datasets->ragas) (19.0.0)\n",
      "Collecting dill<0.3.9,>=0.3.0 (from datasets->ragas)\n",
      "  Using cached dill-0.3.8-py3-none-any.whl.metadata (10 kB)\n",
      "Requirement already satisfied: pandas in /Users/karthik/tryout/LangchainTraining/myenv312/lib/python3.12/site-packages (from datasets->ragas) (2.2.3)\n",
      "Requirement already satisfied: requests>=2.32.2 in /Users/karthik/tryout/LangchainTraining/myenv312/lib/python3.12/site-packages (from datasets->ragas) (2.32.3)\n",
      "Collecting xxhash (from datasets->ragas)\n",
      "  Using cached xxhash-3.5.0-cp312-cp312-macosx_11_0_arm64.whl.metadata (12 kB)\n",
      "Collecting multiprocess<0.70.17 (from datasets->ragas)\n",
      "  Using cached multiprocess-0.70.16-py312-none-any.whl.metadata (7.2 kB)\n",
      "Collecting fsspec<=2024.12.0,>=2023.1.0 (from fsspec[http]<=2024.12.0,>=2023.1.0->datasets->ragas)\n",
      "  Using cached fsspec-2024.12.0-py3-none-any.whl.metadata (11 kB)\n",
      "Requirement already satisfied: aiohttp in /Users/karthik/tryout/LangchainTraining/myenv312/lib/python3.12/site-packages (from datasets->ragas) (3.11.12)\n",
      "Requirement already satisfied: huggingface-hub>=0.24.0 in /Users/karthik/tryout/LangchainTraining/myenv312/lib/python3.12/site-packages (from datasets->ragas) (0.28.1)\n",
      "Requirement already satisfied: packaging in /Users/karthik/tryout/LangchainTraining/myenv312/lib/python3.12/site-packages (from datasets->ragas) (24.2)\n",
      "Requirement already satisfied: pyyaml>=5.1 in /Users/karthik/tryout/LangchainTraining/myenv312/lib/python3.12/site-packages (from datasets->ragas) (6.0.2)\n",
      "Requirement already satisfied: langchain-text-splitters<1.0.0,>=0.3.6 in /Users/karthik/tryout/LangchainTraining/myenv312/lib/python3.12/site-packages (from langchain->ragas) (0.3.6)\n",
      "Requirement already satisfied: langsmith<0.4,>=0.1.17 in /Users/karthik/tryout/LangchainTraining/myenv312/lib/python3.12/site-packages (from langchain->ragas) (0.3.8)\n",
      "Requirement already satisfied: SQLAlchemy<3,>=1.4 in /Users/karthik/tryout/LangchainTraining/myenv312/lib/python3.12/site-packages (from langchain->ragas) (2.0.38)\n",
      "Requirement already satisfied: tenacity!=8.4.0,<10,>=8.1.0 in /Users/karthik/tryout/LangchainTraining/myenv312/lib/python3.12/site-packages (from langchain->ragas) (9.0.0)\n",
      "Requirement already satisfied: jsonpatch<2.0,>=1.33 in /Users/karthik/tryout/LangchainTraining/myenv312/lib/python3.12/site-packages (from langchain-core->ragas) (1.33)\n",
      "Requirement already satisfied: dataclasses-json<0.7,>=0.5.7 in /Users/karthik/tryout/LangchainTraining/myenv312/lib/python3.12/site-packages (from langchain-community->ragas) (0.6.7)\n",
      "Requirement already satisfied: pydantic-settings<3.0.0,>=2.4.0 in /Users/karthik/tryout/LangchainTraining/myenv312/lib/python3.12/site-packages (from langchain-community->ragas) (2.7.1)\n",
      "Requirement already satisfied: httpx-sse<1.0.0,>=0.4.0 in /Users/karthik/tryout/LangchainTraining/myenv312/lib/python3.12/site-packages (from langchain-community->ragas) (0.4.0)\n",
      "Collecting regex>=2022.1.18 (from tiktoken->ragas)\n",
      "  Using cached regex-2024.11.6-cp312-cp312-macosx_11_0_arm64.whl.metadata (40 kB)\n",
      "Requirement already satisfied: aiohappyeyeballs>=2.3.0 in /Users/karthik/tryout/LangchainTraining/myenv312/lib/python3.12/site-packages (from aiohttp->datasets->ragas) (2.4.6)\n",
      "Requirement already satisfied: aiosignal>=1.1.2 in /Users/karthik/tryout/LangchainTraining/myenv312/lib/python3.12/site-packages (from aiohttp->datasets->ragas) (1.3.2)\n",
      "Requirement already satisfied: attrs>=17.3.0 in /Users/karthik/tryout/LangchainTraining/myenv312/lib/python3.12/site-packages (from aiohttp->datasets->ragas) (25.1.0)\n",
      "Requirement already satisfied: frozenlist>=1.1.1 in /Users/karthik/tryout/LangchainTraining/myenv312/lib/python3.12/site-packages (from aiohttp->datasets->ragas) (1.5.0)\n",
      "Requirement already satisfied: multidict<7.0,>=4.5 in /Users/karthik/tryout/LangchainTraining/myenv312/lib/python3.12/site-packages (from aiohttp->datasets->ragas) (6.1.0)\n",
      "Requirement already satisfied: propcache>=0.2.0 in /Users/karthik/tryout/LangchainTraining/myenv312/lib/python3.12/site-packages (from aiohttp->datasets->ragas) (0.2.1)\n",
      "Requirement already satisfied: yarl<2.0,>=1.17.0 in /Users/karthik/tryout/LangchainTraining/myenv312/lib/python3.12/site-packages (from aiohttp->datasets->ragas) (1.18.3)\n",
      "Requirement already satisfied: idna>=2.8 in /Users/karthik/tryout/LangchainTraining/myenv312/lib/python3.12/site-packages (from anyio<5,>=3.5.0->openai>1->ragas) (3.10)\n",
      "Requirement already satisfied: marshmallow<4.0.0,>=3.18.0 in /Users/karthik/tryout/LangchainTraining/myenv312/lib/python3.12/site-packages (from dataclasses-json<0.7,>=0.5.7->langchain-community->ragas) (3.26.1)\n",
      "Requirement already satisfied: typing-inspect<1,>=0.4.0 in /Users/karthik/tryout/LangchainTraining/myenv312/lib/python3.12/site-packages (from dataclasses-json<0.7,>=0.5.7->langchain-community->ragas) (0.9.0)\n",
      "Requirement already satisfied: certifi in /Users/karthik/tryout/LangchainTraining/myenv312/lib/python3.12/site-packages (from httpx<1,>=0.23.0->openai>1->ragas) (2025.1.31)\n",
      "Requirement already satisfied: httpcore==1.* in /Users/karthik/tryout/LangchainTraining/myenv312/lib/python3.12/site-packages (from httpx<1,>=0.23.0->openai>1->ragas) (1.0.7)\n",
      "Requirement already satisfied: h11<0.15,>=0.13 in /Users/karthik/tryout/LangchainTraining/myenv312/lib/python3.12/site-packages (from httpcore==1.*->httpx<1,>=0.23.0->openai>1->ragas) (0.14.0)\n",
      "Requirement already satisfied: jsonpointer>=1.9 in /Users/karthik/tryout/LangchainTraining/myenv312/lib/python3.12/site-packages (from jsonpatch<2.0,>=1.33->langchain-core->ragas) (3.0.0)\n",
      "Requirement already satisfied: orjson<4.0.0,>=3.9.14 in /Users/karthik/tryout/LangchainTraining/myenv312/lib/python3.12/site-packages (from langsmith<0.4,>=0.1.17->langchain->ragas) (3.10.15)\n",
      "Requirement already satisfied: requests-toolbelt<2.0.0,>=1.0.0 in /Users/karthik/tryout/LangchainTraining/myenv312/lib/python3.12/site-packages (from langsmith<0.4,>=0.1.17->langchain->ragas) (1.0.0)\n",
      "Requirement already satisfied: zstandard<0.24.0,>=0.23.0 in /Users/karthik/tryout/LangchainTraining/myenv312/lib/python3.12/site-packages (from langsmith<0.4,>=0.1.17->langchain->ragas) (0.23.0)\n",
      "Requirement already satisfied: python-dotenv>=0.21.0 in /Users/karthik/tryout/LangchainTraining/myenv312/lib/python3.12/site-packages (from pydantic-settings<3.0.0,>=2.4.0->langchain-community->ragas) (1.0.1)\n",
      "Requirement already satisfied: charset-normalizer<4,>=2 in /Users/karthik/tryout/LangchainTraining/myenv312/lib/python3.12/site-packages (from requests>=2.32.2->datasets->ragas) (3.4.1)\n",
      "Requirement already satisfied: urllib3<3,>=1.21.1 in /Users/karthik/tryout/LangchainTraining/myenv312/lib/python3.12/site-packages (from requests>=2.32.2->datasets->ragas) (2.3.0)\n",
      "Requirement already satisfied: python-dateutil>=2.8.2 in /Users/karthik/tryout/LangchainTraining/myenv312/lib/python3.12/site-packages (from pandas->datasets->ragas) (2.9.0.post0)\n",
      "Requirement already satisfied: pytz>=2020.1 in /Users/karthik/tryout/LangchainTraining/myenv312/lib/python3.12/site-packages (from pandas->datasets->ragas) (2025.1)\n",
      "Requirement already satisfied: tzdata>=2022.7 in /Users/karthik/tryout/LangchainTraining/myenv312/lib/python3.12/site-packages (from pandas->datasets->ragas) (2025.1)\n",
      "Requirement already satisfied: six>=1.5 in /Users/karthik/tryout/LangchainTraining/myenv312/lib/python3.12/site-packages (from python-dateutil>=2.8.2->pandas->datasets->ragas) (1.17.0)\n",
      "Requirement already satisfied: mypy-extensions>=0.3.0 in /Users/karthik/tryout/LangchainTraining/myenv312/lib/python3.12/site-packages (from typing-inspect<1,>=0.4.0->dataclasses-json<0.7,>=0.5.7->langchain-community->ragas) (1.0.0)\n",
      "Using cached ragas-0.2.13-py3-none-any.whl (178 kB)\n",
      "Using cached diskcache-5.6.3-py3-none-any.whl (45 kB)\n",
      "Using cached openai-1.63.2-py3-none-any.whl (472 kB)\n",
      "Using cached appdirs-1.4.4-py2.py3-none-any.whl (9.6 kB)\n",
      "Downloading datasets-3.3.2-py3-none-any.whl (485 kB)\n",
      "Using cached langchain_openai-0.3.6-py3-none-any.whl (54 kB)\n",
      "Using cached tiktoken-0.9.0-cp312-cp312-macosx_11_0_arm64.whl (1.0 MB)\n",
      "Using cached dill-0.3.8-py3-none-any.whl (116 kB)\n",
      "Using cached distro-1.9.0-py3-none-any.whl (20 kB)\n",
      "Using cached fsspec-2024.12.0-py3-none-any.whl (183 kB)\n",
      "Using cached jiter-0.8.2-cp312-cp312-macosx_11_0_arm64.whl (310 kB)\n",
      "Using cached multiprocess-0.70.16-py312-none-any.whl (146 kB)\n",
      "Using cached regex-2024.11.6-cp312-cp312-macosx_11_0_arm64.whl (284 kB)\n",
      "Using cached xxhash-3.5.0-cp312-cp312-macosx_11_0_arm64.whl (30 kB)\n",
      "Installing collected packages: appdirs, xxhash, regex, jiter, fsspec, distro, diskcache, dill, tiktoken, multiprocess, openai, datasets, langchain_openai, ragas\n",
      "  Attempting uninstall: fsspec\n",
      "    Found existing installation: fsspec 2025.2.0\n",
      "    Uninstalling fsspec-2025.2.0:\n",
      "      Successfully uninstalled fsspec-2025.2.0\n",
      "Successfully installed appdirs-1.4.4 datasets-3.3.2 dill-0.3.8 diskcache-5.6.3 distro-1.9.0 fsspec-2024.12.0 jiter-0.8.2 langchain_openai-0.3.6 multiprocess-0.70.16 openai-1.63.2 ragas-0.2.13 regex-2024.11.6 tiktoken-0.9.0 xxhash-3.5.0\n",
      "\n",
      "\u001b[1m[\u001b[0m\u001b[34;49mnotice\u001b[0m\u001b[1;39;49m]\u001b[0m\u001b[39;49m A new release of pip is available: \u001b[0m\u001b[31;49m24.2\u001b[0m\u001b[39;49m -> \u001b[0m\u001b[32;49m25.0.1\u001b[0m\n",
      "\u001b[1m[\u001b[0m\u001b[34;49mnotice\u001b[0m\u001b[1;39;49m]\u001b[0m\u001b[39;49m To update, run: \u001b[0m\u001b[32;49mpip install --upgrade pip\u001b[0m\n"
     ]
    }
   ],
   "source": [
    "!pip install ragas"
   ]
  },
  {
   "cell_type": "markdown",
   "metadata": {},
   "source": [
    "#### Create LLMs Instance with Local LLMs"
   ]
  },
  {
   "cell_type": "code",
   "execution_count": 2,
   "metadata": {},
   "outputs": [],
   "source": [
    "from dotenv import load_dotenv\n",
    "from langchain_ollama import ChatOllama\n",
    "\n",
    "load = load_dotenv('./../.env')\n",
    "\n",
    "\n",
    "llm = ChatOllama(\n",
    "    base_url=\"http://localhost:11434\",\n",
    "    model = \"qwen2.5:latest\",\n",
    "    temperature=0.5,\n",
    "    max_tokens = 250\n",
    ")"
   ]
  },
  {
   "cell_type": "code",
   "execution_count": null,
   "metadata": {},
   "outputs": [
    {
     "data": {
      "text/plain": [
       "1"
      ]
     },
     "execution_count": 3,
     "metadata": {},
     "output_type": "execute_result"
    }
   ],
   "source": [
    "from ragas import SingleTurnSample\n",
    "from ragas.metrics import AspectCritic\n",
    "from ragas.llms import LangchainLLMWrapper\n",
    "\n",
    "test_data = {\n",
    "    \"user_input\": \"summarise given text\\nThe company reported an 8% rise in Q3 2024, driven by strong performance in the Asian market. Sales in this region have significantly contributed to the overall growth. Analysts attribute this success to strategic marketing and product localization. The positive trend in the Asian market is expected to continue into the next quarter.\",\n",
    "    \"response\": \"The company experienced an 8% increase in Q3 2024, largely due to effective marketing strategies and product adaptation, with expectations of continued growth in the coming quarter.\",\n",
    "}\n",
    "evaluator_llm = LangchainLLMWrapper(llm)\n",
    "metric = AspectCritic(name=\"summary_accuracy\",llm=evaluator_llm, definition=\"Verify if the summary is accurate.\")\n",
    "await metric.single_turn_ascore(SingleTurnSample(**test_data))"
   ]
  },
  {
   "cell_type": "markdown",
   "metadata": {},
   "source": [
    "### MultiTurnSample with RAGAS"
   ]
  },
  {
   "cell_type": "code",
   "execution_count": 4,
   "metadata": {},
   "outputs": [],
   "source": [
    "from ragas.messages import HumanMessage, AIMessage, ToolMessage, ToolCall\n",
    "\n",
    "# User asks about the weather in New York City\n",
    "user_message = HumanMessage(content=\"What's the weather like in New York City today?\")\n",
    "\n",
    "# AI decides to use a weather API tool to fetch the information\n",
    "ai_initial_response = AIMessage(\n",
    "    content=\"Let me check the current weather in New York City for you.\",\n",
    "    tool_calls=[ToolCall(name=\"WeatherAPI\", args={\"location\": \"New York City\"})]\n",
    ")\n",
    "\n",
    "# Tool provides the weather information\n",
    "tool_response = ToolMessage(content=\"It's sunny with a temperature of 75°F in New York City.\")\n",
    "\n",
    "# AI delivers the final response to the user\n",
    "ai_final_response = AIMessage(content=\"It's sunny and 75 degrees Fahrenheit in New York City today.\")\n",
    "\n",
    "# Combine all messages into a list to represent the conversation\n",
    "conversation = [\n",
    "    user_message,\n",
    "    ai_initial_response,\n",
    "    tool_response,\n",
    "    ai_final_response\n",
    "]"
   ]
  },
  {
   "cell_type": "code",
   "execution_count": 7,
   "metadata": {},
   "outputs": [
    {
     "data": {
      "text/plain": [
       "1"
      ]
     },
     "execution_count": 7,
     "metadata": {},
     "output_type": "execute_result"
    }
   ],
   "source": [
    "from ragas import MultiTurnSample\n",
    "# Reference response for evaluation purposes\n",
    "reference_response = \"Provide the current weather in New York City to the user.\"\n",
    "\n",
    "\n",
    "# Create the MultiTurnSample instance\n",
    "sample = MultiTurnSample(\n",
    "    user_input=conversation,\n",
    "    reference=reference_response,\n",
    ")\n",
    "\n",
    "await metric.multi_turn_ascore(sample)"
   ]
  }
 ],
 "metadata": {
  "kernelspec": {
   "display_name": "myenv312",
   "language": "python",
   "name": "python3"
  },
  "language_info": {
   "codemirror_mode": {
    "name": "ipython",
    "version": 3
   },
   "file_extension": ".py",
   "mimetype": "text/x-python",
   "name": "python",
   "nbconvert_exporter": "python",
   "pygments_lexer": "ipython3",
   "version": "3.12.7"
  }
 },
 "nbformat": 4,
 "nbformat_minor": 2
}
