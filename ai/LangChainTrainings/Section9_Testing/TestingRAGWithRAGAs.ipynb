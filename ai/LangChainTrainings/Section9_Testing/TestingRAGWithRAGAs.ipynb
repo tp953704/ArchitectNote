{
 "cells": [
  {
   "cell_type": "markdown",
   "metadata": {},
   "source": [
    "### Test a RAG based system with LLM being an Evaluator 🧪"
   ]
  },
  {
   "cell_type": "code",
   "execution_count": 1,
   "metadata": {},
   "outputs": [],
   "source": [
    "from dotenv import load_dotenv\n",
    "from langchain_ollama import ChatOllama\n",
    "\n",
    "load = load_dotenv('./../.env')\n",
    "\n",
    "\n",
    "llm = ChatOllama(\n",
    "    base_url=\"http://localhost:11434\",\n",
    "    model = \"qwen2.5:latest\",\n",
    "    temperature=0.5,\n",
    "    max_tokens = 250\n",
    ")\n",
    "\n",
    "llm2 = ChatOllama(\n",
    "    base_url=\"http://localhost:11434\",\n",
    "    model = \"llama3.1:70b\",\n",
    "    temperature=0.5,\n",
    "    max_tokens = 250\n",
    ")"
   ]
  },
  {
   "cell_type": "markdown",
   "metadata": {},
   "source": [
    "#### Embedding"
   ]
  },
  {
   "cell_type": "code",
   "execution_count": 2,
   "metadata": {},
   "outputs": [],
   "source": [
    "from langchain_ollama import OllamaEmbeddings\n",
    "from langchain_chroma import Chroma\n",
    "\n",
    "\n",
    "embeddings = OllamaEmbeddings(model=\"llama3.2:latest\")"
   ]
  },
  {
   "cell_type": "code",
   "execution_count": 3,
   "metadata": {},
   "outputs": [],
   "source": [
    "from langchain.docstore.document import Document\n",
    "\n",
    "docs = [\n",
    "    Document(page_content=\"Playwright is a modern automation library for end-to-end testing. It supports multiple browsers like Chromium, Firefox, and WebKit.\"),\n",
    "    Document(page_content=\"Selenium is a widely used open-source framework for web automation, supporting multiple programming languages and browsers.\"),\n",
    "    Document(page_content=\"Cypress is a JavaScript-based testing tool primarily used for front-end testing. It runs in the browser and provides fast feedback loops.\"),\n",
    "    Document(page_content=\"Playwright allows network interception, headless execution, and tracing for debugging complex web applications.\"),\n",
    "    Document(page_content=\"Selenium WebDriver enables automated browser testing using various bindings such as Python, Java, and C#.\"),\n",
    "    Document(page_content=\"Cypress has built-in support for retries, time-travel debugging, and automatic waiting, making it easy to test dynamic web pages.\"),\n",
    "    Document(page_content=\"This document talks about REST API testing tools, which are unrelated to Playwright, Selenium, or Cypress.\")\n",
    "]\n",
    "\n",
    "questions = [\n",
    "    \"What is Playwright and what browsers does it support?\",\n",
    "    \"What is Selenium and what programming languages does it support?\",\n",
    "    \"What is Cypress, and how is it different from Selenium?\",\n",
    "    \"How does Playwright handle network interception and debugging?\",\n",
    "    \"What are the key features of Selenium WebDriver?\",\n",
    "    \"What are the main advantages of Cypress for testing?\",\n",
    "    \"What are REST API testing tools, and how are they different from browser automation tools?\"\n",
    "]\n",
    "\n",
    "vector_store = Chroma.from_documents(docs, embeddings)\n",
    "\n"
   ]
  },
  {
   "cell_type": "markdown",
   "metadata": {},
   "source": [
    "#### Retrieval QA and Retriever"
   ]
  },
  {
   "cell_type": "code",
   "execution_count": 4,
   "metadata": {},
   "outputs": [
    {
     "name": "stderr",
     "output_type": "stream",
     "text": [
      "/var/folders/jc/c7p4f2sd36xbqwkp2djn8flc0000gn/T/ipykernel_89549/746672182.py:9: LangChainDeprecationWarning: The method `Chain.run` was deprecated in langchain 0.1.0 and will be removed in 1.0. Use :meth:`~invoke` instead.\n",
      "  response = qa_chain.run(query)\n",
      "/var/folders/jc/c7p4f2sd36xbqwkp2djn8flc0000gn/T/ipykernel_89549/746672182.py:11: LangChainDeprecationWarning: The method `BaseRetriever.get_relevant_documents` was deprecated in langchain-core 0.1.46 and will be removed in 1.0. Use :meth:`~invoke` instead.\n",
      "  retrieved_docs = retriever.get_relevant_documents(query)\n"
     ]
    },
    {
     "data": {
      "text/plain": [
       "('Playwright allows network interception, headless execution, and tracing for debugging complex web applications. It also supports multiple browsers like Chromium, Firefox, and WebKit, making it a modern automation library for end-to-end testing.',\n",
       " [Document(id='ab2e3850-6f6e-469a-9a57-844d191e7ea4', metadata={}, page_content='Playwright allows network interception, headless execution, and tracing for debugging complex web applications.'),\n",
       "  Document(id='38076b0c-0873-441d-aeb1-7af3bda303e3', metadata={}, page_content='Selenium WebDriver enables automated browser testing using various bindings such as Python, Java, and C#.'),\n",
       "  Document(id='360f8bde-a412-446d-85ea-bf4291753a4c', metadata={}, page_content='Playwright is a modern automation library for end-to-end testing. It supports multiple browsers like Chromium, Firefox, and WebKit.')])"
      ]
     },
     "execution_count": 4,
     "metadata": {},
     "output_type": "execute_result"
    }
   ],
   "source": [
    "from langchain.chains import RetrievalQA\n",
    "\n",
    "retriever = vector_store.as_retriever(search_kwargs={\"k\": 3})\n",
    "\n",
    "qa_chain = RetrievalQA.from_chain_type(llm=llm,retriever=retriever)\n",
    "\n",
    "query = \"What playwright does?\"\n",
    "\n",
    "response = qa_chain.run(query)\n",
    "\n",
    "retrieved_docs = retriever.get_relevant_documents(query)\n",
    "\n",
    "response, retrieved_docs\n"
   ]
  },
  {
   "cell_type": "markdown",
   "metadata": {},
   "source": [
    "#### Creating MultishotSample Dataset for RAGAs 📈"
   ]
  },
  {
   "cell_type": "code",
   "execution_count": 5,
   "metadata": {},
   "outputs": [
    {
     "data": {
      "text/plain": [
       "[{'user_input': 'What is Playwright and what browsers does it support?',\n",
       "  'retrieved_contexts': ['Playwright is a modern automation library for end-to-end testing. It supports multiple browsers like Chromium, Firefox, and WebKit.',\n",
       "   'Playwright allows network interception, headless execution, and tracing for debugging complex web applications.',\n",
       "   'Selenium WebDriver enables automated browser testing using various bindings such as Python, Java, and C#.'],\n",
       "  'response': 'Playwright is a modern automation library for end-to-end testing. It supports multiple browsers like Chromium, Firefox, and WebKit.',\n",
       "  'reference': 'Playwright is a modern automation library for end-to-end testing. It supports multiple browsers like Chromium, Firefox, and WebKit.'},\n",
       " {'user_input': 'What is Selenium and what programming languages does it support?',\n",
       "  'retrieved_contexts': ['Selenium WebDriver enables automated browser testing using various bindings such as Python, Java, and C#.',\n",
       "   'Selenium is a widely used open-source framework for web automation, supporting multiple programming languages and browsers.',\n",
       "   'Playwright is a modern automation library for end-to-end testing. It supports multiple browsers like Chromium, Firefox, and WebKit.'],\n",
       "  'response': 'Selenium is a widely used open-source framework for web automation that supports multiple programming languages including Python, Java, and C#.',\n",
       "  'reference': 'Selenium is a widely used open-source framework for web automation, supporting multiple programming languages and browsers.'},\n",
       " {'user_input': 'What is Cypress, and how is it different from Selenium?',\n",
       "  'retrieved_contexts': ['Selenium WebDriver enables automated browser testing using various bindings such as Python, Java, and C#.',\n",
       "   'Selenium is a widely used open-source framework for web automation, supporting multiple programming languages and browsers.',\n",
       "   'This document talks about REST API testing tools, which are unrelated to Playwright, Selenium, or Cypress.'],\n",
       "  'response': 'Cypress is a JavaScript-based end-to-end testing framework specifically designed for modern web applications. It provides a fast and easy way to write tests that run in the actual browser.\\n\\nIn contrast to Selenium, which supports multiple programming languages (including Python, Java, C#, etc.), Cypress is primarily focused on JavaScript and integrates seamlessly with tools like Mocha or Jest for writing test cases. Additionally, Cypress offers features such as network request mocking, automatic testing of forms and input fields, and a powerful dashboard that provides real-time feedback during tests.\\n\\nSelenium WebDriver, on the other hand, is more flexible but can be complex to set up and maintain, especially in larger projects. It requires more configuration and setup compared to Cypress, which aims to make web automation as simple and intuitive as possible.',\n",
       "  'reference': 'Cypress is a JavaScript-based testing tool primarily used for front-end testing. It runs in the browser and provides fast feedback loops.'},\n",
       " {'user_input': 'How does Playwright handle network interception and debugging?',\n",
       "  'retrieved_contexts': ['Playwright allows network interception, headless execution, and tracing for debugging complex web applications.',\n",
       "   'Playwright is a modern automation library for end-to-end testing. It supports multiple browsers like Chromium, Firefox, and WebKit.',\n",
       "   'Cypress has built-in support for retries, time-travel debugging, and automatic waiting, making it easy to test dynamic web pages.'],\n",
       "  'response': 'Playwright allows network interception, which means you can inspect and control network requests made by a web application during testing or development. This feature is useful for debugging complex web applications by examining the data being sent and received over the network.\\n\\nFor debugging, Playwright provides tracing capabilities that generate detailed logs and visual representations of what happens during test execution. These traces can help identify issues in your tests or the behavior of the web application itself. Additionally, Playwright supports headless execution, which means you can run tests without a browser UI, making it easier to automate and integrate into continuous integration pipelines.\\n\\nIn summary, Playwright handles network interception by allowing you to inspect network requests, and it aids debugging through tracing features that provide detailed logs and visualizations of test runs.',\n",
       "  'reference': 'Playwright allows network interception, headless execution, and tracing for debugging complex web applications.'},\n",
       " {'user_input': 'What are the key features of Selenium WebDriver?',\n",
       "  'retrieved_contexts': ['Selenium WebDriver enables automated browser testing using various bindings such as Python, Java, and C#.',\n",
       "   'Selenium is a widely used open-source framework for web automation, supporting multiple programming languages and browsers.',\n",
       "   'Playwright allows network interception, headless execution, and tracing for debugging complex web applications.'],\n",
       "  'response': 'Selenium WebDriver enables automated browser testing using various bindings such as Python, Java, and C#. It supports multiple programming languages and browsers, making it a widely used open-source framework for web automation.',\n",
       "  'reference': 'Selenium WebDriver enables automated browser testing using various bindings such as Python, Java, and C#.'},\n",
       " {'user_input': 'What are the main advantages of Cypress for testing?',\n",
       "  'retrieved_contexts': ['Cypress is a JavaScript-based testing tool primarily used for front-end testing. It runs in the browser and provides fast feedback loops.',\n",
       "   'Cypress has built-in support for retries, time-travel debugging, and automatic waiting, making it easy to test dynamic web pages.',\n",
       "   'Selenium WebDriver enables automated browser testing using various bindings such as Python, Java, and C#.'],\n",
       "  'response': 'The main advantages of Cypress for testing include:\\n\\n1. **Fast Feedback Loops**: Cypress provides quick feedback by running tests in the browser, which helps developers catch issues early.\\n2. **Built-in Support for Retries and Time-Travel Debugging**: This feature allows testers to retry failed tests automatically or step through test runs to understand why a specific test failed.\\n3. **Automatic Waiting**: Cypress handles waiting for elements to appear on the page automatically, reducing the need for explicit waits in tests.\\n\\nThese features make it particularly well-suited for testing dynamic web applications.',\n",
       "  'reference': 'Cypress has built-in support for retries, time-travel debugging, and automatic waiting, making it easy to test dynamic web pages.'},\n",
       " {'user_input': 'What are REST API testing tools, and how are they different from browser automation tools?',\n",
       "  'retrieved_contexts': ['This document talks about REST API testing tools, which are unrelated to Playwright, Selenium, or Cypress.',\n",
       "   'Selenium WebDriver enables automated browser testing using various bindings such as Python, Java, and C#.',\n",
       "   'Selenium is a widely used open-source framework for web automation, supporting multiple programming languages and browsers.'],\n",
       "  'response': \"The document does not provide specific information about REST API testing tools or their differences from browser automation tools like Selenium. Typically, REST API testing tools are used to test the functionality of APIs (Application Programming Interfaces) that use HTTP requests to interact with a server. These tools help in verifying that data is being processed and returned correctly without involving actual user interfaces.\\n\\nBrowser automation tools like Selenium, on the other hand, focus on automating tasks within web browsers to ensure that websites function as expected from a user's perspective. They can simulate user interactions such as clicks, form submissions, and navigation through pages.\\n\\nThe key differences between REST API testing tools and browser automation tools are:\\n\\n1. **Focus**: REST API testing tools test the backend services and data flow, while browser automation tools focus on the frontend experience.\\n2. **Tooling**: REST API testing often uses tools like Postman, Insomnia, or libraries such as pytest-requests in Python. Browser automation typically employs frameworks like Selenium, Playwright, or Cypress.\\n3. **Environment**: REST API tests are usually performed against a backend server and do not require a full browser environment. Browser automation requires a running web application within a browser.\\n\\nIf you need more detailed information about specific tools or their functionalities, please let me know!\",\n",
       "  'reference': 'This document talks about REST API testing tools, which are unrelated to Playwright, Selenium, or Cypress.'}]"
      ]
     },
     "execution_count": 5,
     "metadata": {},
     "output_type": "execute_result"
    }
   ],
   "source": [
    "dataset = []\n",
    "\n",
    "for question, doc in zip(questions, docs): \n",
    "    relevant_docs = [doc.page_content for doc in retriever.get_relevant_documents(question)]\n",
    "    response = qa_chain.run(question)\n",
    "    \n",
    "    dataset.append({\n",
    "        \n",
    "        \"user_input\": question,\n",
    "        \"retrieved_contexts\": relevant_docs,\n",
    "        \"response\": response,\n",
    "        \"reference\": doc.page_content\n",
    "        \n",
    "    })\n",
    "    \n",
    "dataset\n"
   ]
  },
  {
   "cell_type": "markdown",
   "metadata": {},
   "source": [
    "#### RAGAs Evaluation of RAG data"
   ]
  },
  {
   "cell_type": "code",
   "execution_count": 6,
   "metadata": {},
   "outputs": [
    {
     "name": "stderr",
     "output_type": "stream",
     "text": [
      "/Users/karthik/tryout/LangchainTraining/myenv312/lib/python3.12/site-packages/tqdm/auto.py:21: TqdmWarning: IProgress not found. Please update jupyter and ipywidgets. See https://ipywidgets.readthedocs.io/en/stable/user_install.html\n",
      "  from .autonotebook import tqdm as notebook_tqdm\n"
     ]
    }
   ],
   "source": [
    "from ragas import EvaluationDataset\n",
    "evaluation_dataset = EvaluationDataset.from_list(dataset)"
   ]
  },
  {
   "cell_type": "code",
   "execution_count": 7,
   "metadata": {},
   "outputs": [
    {
     "name": "stderr",
     "output_type": "stream",
     "text": [
      "Evaluating: 100%|██████████| 28/28 [01:01<00:00,  2.21s/it]\n"
     ]
    },
    {
     "data": {
      "text/plain": [
       "{'context_recall': 0.8571, 'faithfulness': 0.5725, 'factual_correctness': 0.5729, 'answer_relevancy': 0.9794}"
      ]
     },
     "execution_count": 7,
     "metadata": {},
     "output_type": "execute_result"
    }
   ],
   "source": [
    "from ragas import evaluate\n",
    "from ragas.llms import LangchainLLMWrapper\n",
    "from langchain_openai import ChatOpenAI\n",
    "\n",
    "from ragas.metrics import LLMContextRecall, Faithfulness, FactualCorrectness, AnswerRelevancy\n",
    "\n",
    "evaluator_openai_llm = LangchainLLMWrapper(ChatOpenAI(model=\"gpt-4o\"))\n",
    "\n",
    "result = evaluate(dataset=evaluation_dataset, \n",
    "                  metrics=[LLMContextRecall(), \n",
    "                           Faithfulness(), \n",
    "                           FactualCorrectness(),\n",
    "                           AnswerRelevancy()\n",
    "                           ], \n",
    "                  llm=evaluator_openai_llm)\n",
    "\n",
    "result\n"
   ]
  },
  {
   "cell_type": "code",
   "execution_count": 8,
   "metadata": {},
   "outputs": [
    {
     "data": {
      "text/html": [
       "<div>\n",
       "<style scoped>\n",
       "    .dataframe tbody tr th:only-of-type {\n",
       "        vertical-align: middle;\n",
       "    }\n",
       "\n",
       "    .dataframe tbody tr th {\n",
       "        vertical-align: top;\n",
       "    }\n",
       "\n",
       "    .dataframe thead th {\n",
       "        text-align: right;\n",
       "    }\n",
       "</style>\n",
       "<table border=\"1\" class=\"dataframe\">\n",
       "  <thead>\n",
       "    <tr style=\"text-align: right;\">\n",
       "      <th></th>\n",
       "      <th>user_input</th>\n",
       "      <th>retrieved_contexts</th>\n",
       "      <th>response</th>\n",
       "      <th>reference</th>\n",
       "      <th>context_recall</th>\n",
       "      <th>faithfulness</th>\n",
       "      <th>factual_correctness</th>\n",
       "      <th>answer_relevancy</th>\n",
       "    </tr>\n",
       "  </thead>\n",
       "  <tbody>\n",
       "    <tr>\n",
       "      <th>0</th>\n",
       "      <td>What is Playwright and what browsers does it s...</td>\n",
       "      <td>[Playwright is a modern automation library for...</td>\n",
       "      <td>Playwright is a modern automation library for ...</td>\n",
       "      <td>Playwright is a modern automation library for ...</td>\n",
       "      <td>1.0</td>\n",
       "      <td>1.000000</td>\n",
       "      <td>1.00</td>\n",
       "      <td>1.000000</td>\n",
       "    </tr>\n",
       "    <tr>\n",
       "      <th>1</th>\n",
       "      <td>What is Selenium and what programming language...</td>\n",
       "      <td>[Selenium WebDriver enables automated browser ...</td>\n",
       "      <td>Selenium is a widely used open-source framewor...</td>\n",
       "      <td>Selenium is a widely used open-source framewor...</td>\n",
       "      <td>1.0</td>\n",
       "      <td>1.000000</td>\n",
       "      <td>0.60</td>\n",
       "      <td>1.000000</td>\n",
       "    </tr>\n",
       "    <tr>\n",
       "      <th>2</th>\n",
       "      <td>What is Cypress, and how is it different from ...</td>\n",
       "      <td>[Selenium WebDriver enables automated browser ...</td>\n",
       "      <td>Cypress is a JavaScript-based end-to-end testi...</td>\n",
       "      <td>Cypress is a JavaScript-based testing tool pri...</td>\n",
       "      <td>0.0</td>\n",
       "      <td>0.076923</td>\n",
       "      <td>0.35</td>\n",
       "      <td>0.980625</td>\n",
       "    </tr>\n",
       "    <tr>\n",
       "      <th>3</th>\n",
       "      <td>How does Playwright handle network interceptio...</td>\n",
       "      <td>[Playwright allows network interception, headl...</td>\n",
       "      <td>Playwright allows network interception, which ...</td>\n",
       "      <td>Playwright allows network interception, headle...</td>\n",
       "      <td>1.0</td>\n",
       "      <td>0.200000</td>\n",
       "      <td>0.43</td>\n",
       "      <td>0.991590</td>\n",
       "    </tr>\n",
       "    <tr>\n",
       "      <th>4</th>\n",
       "      <td>What are the key features of Selenium WebDriver?</td>\n",
       "      <td>[Selenium WebDriver enables automated browser ...</td>\n",
       "      <td>Selenium WebDriver enables automated browser t...</td>\n",
       "      <td>Selenium WebDriver enables automated browser t...</td>\n",
       "      <td>1.0</td>\n",
       "      <td>1.000000</td>\n",
       "      <td>0.75</td>\n",
       "      <td>0.917806</td>\n",
       "    </tr>\n",
       "    <tr>\n",
       "      <th>5</th>\n",
       "      <td>What are the main advantages of Cypress for te...</td>\n",
       "      <td>[Cypress is a JavaScript-based testing tool pr...</td>\n",
       "      <td>The main advantages of Cypress for testing inc...</td>\n",
       "      <td>Cypress has built-in support for retries, time...</td>\n",
       "      <td>1.0</td>\n",
       "      <td>0.500000</td>\n",
       "      <td>0.88</td>\n",
       "      <td>1.000000</td>\n",
       "    </tr>\n",
       "    <tr>\n",
       "      <th>6</th>\n",
       "      <td>What are REST API testing tools, and how are t...</td>\n",
       "      <td>[This document talks about REST API testing to...</td>\n",
       "      <td>The document does not provide specific informa...</td>\n",
       "      <td>This document talks about REST API testing too...</td>\n",
       "      <td>1.0</td>\n",
       "      <td>0.230769</td>\n",
       "      <td>0.00</td>\n",
       "      <td>0.965968</td>\n",
       "    </tr>\n",
       "  </tbody>\n",
       "</table>\n",
       "</div>"
      ],
      "text/plain": [
       "                                          user_input  \\\n",
       "0  What is Playwright and what browsers does it s...   \n",
       "1  What is Selenium and what programming language...   \n",
       "2  What is Cypress, and how is it different from ...   \n",
       "3  How does Playwright handle network interceptio...   \n",
       "4   What are the key features of Selenium WebDriver?   \n",
       "5  What are the main advantages of Cypress for te...   \n",
       "6  What are REST API testing tools, and how are t...   \n",
       "\n",
       "                                  retrieved_contexts  \\\n",
       "0  [Playwright is a modern automation library for...   \n",
       "1  [Selenium WebDriver enables automated browser ...   \n",
       "2  [Selenium WebDriver enables automated browser ...   \n",
       "3  [Playwright allows network interception, headl...   \n",
       "4  [Selenium WebDriver enables automated browser ...   \n",
       "5  [Cypress is a JavaScript-based testing tool pr...   \n",
       "6  [This document talks about REST API testing to...   \n",
       "\n",
       "                                            response  \\\n",
       "0  Playwright is a modern automation library for ...   \n",
       "1  Selenium is a widely used open-source framewor...   \n",
       "2  Cypress is a JavaScript-based end-to-end testi...   \n",
       "3  Playwright allows network interception, which ...   \n",
       "4  Selenium WebDriver enables automated browser t...   \n",
       "5  The main advantages of Cypress for testing inc...   \n",
       "6  The document does not provide specific informa...   \n",
       "\n",
       "                                           reference  context_recall  \\\n",
       "0  Playwright is a modern automation library for ...             1.0   \n",
       "1  Selenium is a widely used open-source framewor...             1.0   \n",
       "2  Cypress is a JavaScript-based testing tool pri...             0.0   \n",
       "3  Playwright allows network interception, headle...             1.0   \n",
       "4  Selenium WebDriver enables automated browser t...             1.0   \n",
       "5  Cypress has built-in support for retries, time...             1.0   \n",
       "6  This document talks about REST API testing too...             1.0   \n",
       "\n",
       "   faithfulness  factual_correctness  answer_relevancy  \n",
       "0      1.000000                 1.00          1.000000  \n",
       "1      1.000000                 0.60          1.000000  \n",
       "2      0.076923                 0.35          0.980625  \n",
       "3      0.200000                 0.43          0.991590  \n",
       "4      1.000000                 0.75          0.917806  \n",
       "5      0.500000                 0.88          1.000000  \n",
       "6      0.230769                 0.00          0.965968  "
      ]
     },
     "execution_count": 8,
     "metadata": {},
     "output_type": "execute_result"
    }
   ],
   "source": [
    "result.to_pandas()"
   ]
  }
 ],
 "metadata": {
  "kernelspec": {
   "display_name": "myenv312",
   "language": "python",
   "name": "python3"
  },
  "language_info": {
   "codemirror_mode": {
    "name": "ipython",
    "version": 3
   },
   "file_extension": ".py",
   "mimetype": "text/x-python",
   "name": "python",
   "nbconvert_exporter": "python",
   "pygments_lexer": "ipython3",
   "version": "3.12.7"
  }
 },
 "nbformat": 4,
 "nbformat_minor": 2
}
